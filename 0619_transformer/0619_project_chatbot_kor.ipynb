{
 "cells": [
  {
   "cell_type": "markdown",
   "id": "caaff324",
   "metadata": {},
   "source": [
    "# 인코더, 디코더, 트랜스포머 모델 구성"
   ]
  },
  {
   "cell_type": "code",
   "execution_count": 1,
   "id": "01ada7b3",
   "metadata": {},
   "outputs": [],
   "source": [
    "import tensorflow as tf\n",
    "import tensorflow_datasets as tfds\n",
    "import os\n",
    "import re\n",
    "import numpy as np\n",
    "import matplotlib.pyplot as plt"
   ]
  },
  {
   "cell_type": "code",
   "execution_count": 2,
   "id": "25f64e61",
   "metadata": {},
   "outputs": [],
   "source": [
    "# Positional Encoding\n",
    "\n",
    "class PositionalEncoding(tf.keras.layers.Layer):\n",
    "\n",
    "  def __init__(self, position, d_model):\n",
    "    super(PositionalEncoding, self).__init__()\n",
    "    self.pos_encoding = self.positional_encoding(position, d_model)\n",
    "\n",
    "  def get_angles(self, position, i, d_model):\n",
    "    angles = 1 / tf.pow(10000, (2 * (i // 2)) / tf.cast(d_model, tf.float32))\n",
    "    return position * angles\n",
    "\n",
    "  def positional_encoding(self, position, d_model):\n",
    "    # 각도 배열 생성\n",
    "    angle_rads = self.get_angles(\n",
    "        position=tf.range(position, dtype=tf.float32)[:, tf.newaxis],\n",
    "        i=tf.range(d_model, dtype=tf.float32)[tf.newaxis, :],\n",
    "        d_model=d_model)\n",
    "\n",
    "    # 배열의 짝수 인덱스에는 sin 함수 적용\n",
    "    sines = tf.math.sin(angle_rads[:, 0::2])\n",
    "    # 배열의 홀수 인덱스에는 cosine 함수 적용\n",
    "    cosines = tf.math.cos(angle_rads[:, 1::2])\n",
    "\n",
    "    # sin과 cosine이 교차되도록 재배열\n",
    "    pos_encoding = tf.stack([sines, cosines], axis=0)\n",
    "    pos_encoding = tf.transpose(pos_encoding,[1, 2, 0]) \n",
    "    pos_encoding = tf.reshape(pos_encoding, [position, d_model])\n",
    "\n",
    "    pos_encoding = pos_encoding[tf.newaxis, ...]\n",
    "    return tf.cast(pos_encoding, tf.float32)\n",
    "\n",
    "  def call(self, inputs):\n",
    "    return inputs + self.pos_encoding[:, :tf.shape(inputs)[1], :]"
   ]
  },
  {
   "cell_type": "code",
   "execution_count": 3,
   "id": "66574f25",
   "metadata": {},
   "outputs": [],
   "source": [
    "# Scaled dot product attention \n",
    "\n",
    "def scaled_dot_product_attention(query, key, value, mask):\n",
    "  # 어텐션 가중치는 Q와 K의 닷 프로덕트\n",
    "  matmul_qk = tf.matmul(query, key, transpose_b=True)\n",
    "\n",
    "  # 가중치를 정규화\n",
    "  depth = tf.cast(tf.shape(key)[-1], tf.float32)\n",
    "  logits = matmul_qk / tf.math.sqrt(depth)\n",
    "\n",
    "  # 패딩에 마스크 추가\n",
    "  if mask is not None:\n",
    "    logits += (mask * -1e9)  # 마스크 값이 1인 성분들에 매우 큰 음숫값을 더함 -> 소프트맥스를 거치면 0으로 수렴.\n",
    "\n",
    "  # softmax적용\n",
    "  attention_weights = tf.nn.softmax(logits, axis=-1) # row-wisely apply softmax\n",
    "\n",
    "  # 최종 어텐션은 가중치와 V의 닷 프로덕트\n",
    "  output = tf.matmul(attention_weights, value)\n",
    "  return output"
   ]
  },
  {
   "cell_type": "code",
   "execution_count": 4,
   "id": "8b57449d",
   "metadata": {},
   "outputs": [],
   "source": [
    "# Multi head attention\n",
    "\n",
    "class MultiHeadAttention(tf.keras.layers.Layer):\n",
    "\n",
    "  def __init__(self, d_model, num_heads, name=\"multi_head_attention\"):\n",
    "    super(MultiHeadAttention, self).__init__(name=name)\n",
    "    self.num_heads = num_heads\n",
    "    self.d_model = d_model\n",
    "\n",
    "    assert d_model % self.num_heads == 0\n",
    "\n",
    "    self.depth = d_model // self.num_heads\n",
    "\n",
    "    # 각 어텐션 헤드는 \"서로 다른\" 가중치를 이용하여 Q, K, V 를 생성함을 상기\n",
    "    # 서로 다른 어텐션 헤드들을 동시에 병렬로 늘어놓으면 결국 output 차원이 d_model 과 같아지므로\n",
    "    # 병렬 처리 시 출력 차원이 d_model 임.\n",
    "    self.query_dense = tf.keras.layers.Dense(units=d_model)\n",
    "    self.key_dense = tf.keras.layers.Dense(units=d_model)\n",
    "    self.value_dense = tf.keras.layers.Dense(units=d_model)\n",
    "\n",
    "    self.dense = tf.keras.layers.Dense(units=d_model)\n",
    "\n",
    "  def split_heads(self, inputs, batch_size): # batch_size : 한 번에 처리할 문장의 개수.\n",
    "    inputs = tf.reshape(\n",
    "        inputs, shape=(batch_size, -1, self.num_heads, self.depth)) # 둘 째 차원은 seq_len\n",
    "    return tf.transpose(inputs, perm=[0, 2, 1, 3]) # shape = (batch_size, num_heads, seq_len, depth)\n",
    "    # 결론적으로 (batch, seq_len, d_model) |-> (batch, num_heads, seq_len, depth) 로 reshape 함.\n",
    "\n",
    "  def call(self, inputs): # inputs 는 딕셔너리\n",
    "    query, key, value, mask = inputs['query'], inputs['key'], inputs['value'], inputs['mask']\n",
    "    batch_size = tf.shape(query)[0]\n",
    "\n",
    "    # Q, K, V에 각각 Dense를 적용\n",
    "    query = self.query_dense(query)\n",
    "    key = self.key_dense(key)\n",
    "    value = self.value_dense(value) # 각각 shape = (batch, seq_len, d_model) 이 된다.\n",
    "\n",
    "    # 병렬 연산을 위한 머리 여러 개\n",
    "    query = self.split_heads(query, batch_size)\n",
    "    key = self.split_heads(key, batch_size)\n",
    "    value = self.split_heads(value, batch_size) # 각각 shape = (batch, num_heads, seq_len, depth)\n",
    "\n",
    "    # 스케일드 닷 프로덕트 어텐션 적용\n",
    "    scaled_attention = scaled_dot_product_attention(query, key, value, mask)\n",
    "        # shape = (batch, num_heads, seq_len, depth)\n",
    "    scaled_attention = tf.transpose(scaled_attention, perm=[0, 2, 1, 3])\n",
    "        # shape = (batch, seq_len, num_heads, depth)\n",
    "\n",
    "    # 어텐션 연산 후에 각 결과를 다시 연결(concatenate)\n",
    "    concat_attention = tf.reshape(scaled_attention,\n",
    "                                  (batch_size, -1, self.d_model))\n",
    "        # shape = (batch, seq_len, d_model)\n",
    "\n",
    "    # 최종 결과에도 Dense를 한 번 더 적용\n",
    "    outputs = self.dense(concat_attention)\n",
    "\n",
    "    return outputs"
   ]
  },
  {
   "cell_type": "code",
   "execution_count": 5,
   "id": "b44d21fd",
   "metadata": {},
   "outputs": [],
   "source": [
    "def create_padding_mask(x): \n",
    "  mask = tf.cast(tf.math.equal(x, 0), tf.float32)\n",
    "  return mask[:, tf.newaxis, tf.newaxis, :]   # (batch_size, 1, 1, sequence length)\n",
    "\n",
    "# x 에는 정수인코딩된 텐서가 들어갈 것임. 0 이 있는 위치에서 1, 나머지 위치에서 0을 반환.\n",
    "# 잉여 차원 (... ,1, 1, ...) 을 끼워넣는 이유는 코드의 다른 부분에서 연산할 때\n",
    "# tensorflow 의 broadcast 기능이 잘 작동하도록 맞춰주기 위함이다. GPT 답변 참조."
   ]
  },
  {
   "cell_type": "code",
   "execution_count": 6,
   "id": "2cd6d7b0",
   "metadata": {},
   "outputs": [],
   "source": [
    "def create_look_ahead_mask(x): # 다음 단어를 가려주는 마스크\n",
    "  seq_len = tf.shape(x)[1]\n",
    "  look_ahead_mask = 1 - tf.linalg.band_part(tf.ones((seq_len, seq_len)), -1, 0)\n",
    "  padding_mask = create_padding_mask(x)\n",
    "  return tf.maximum(look_ahead_mask, padding_mask)"
   ]
  },
  {
   "cell_type": "code",
   "execution_count": 7,
   "id": "0b31b1a3",
   "metadata": {},
   "outputs": [],
   "source": [
    "# 인코더 하나의 레이어를 함수로 구현.\n",
    "# 인코더 레이어는 케라스 모델 클래스이며, [(... , d_model), padding mask] 를 인풋으로 받아 (... , d_model) 을 출력 \n",
    "\n",
    "# 이 하나의 레이어 안에는 두 개의 서브 레이어가 존재 (멀티헤드 어텐션과 은닉층1개짜리 덴스레이어)\n",
    "def encoder_layer(units, d_model, num_heads, dropout, name=\"encoder_layer\"):\n",
    "  inputs = tf.keras.Input(shape=(None, d_model), name=\"inputs\")\n",
    "\n",
    "  # 패딩 마스크 사용\n",
    "  padding_mask = tf.keras.Input(shape=(1, 1, None), name=\"padding_mask\")\n",
    "\n",
    "  # 첫 번째 서브 레이어 : 멀티 헤드 어텐션 수행 (셀프 어텐션)\n",
    "  attention = MultiHeadAttention(\n",
    "      d_model, num_heads, name=\"attention\")({\n",
    "          'query': inputs,\n",
    "          'key': inputs,\n",
    "          'value': inputs,\n",
    "          'mask': padding_mask\n",
    "      })\n",
    "\n",
    "  # 어텐션의 결과는 Dropout과 Layer Normalization이라는 훈련을 돕는 테크닉을 수행\n",
    "  attention = tf.keras.layers.Dropout(rate=dropout)(attention)\n",
    "  attention = tf.keras.layers.LayerNormalization(\n",
    "      epsilon=1e-6)(inputs + attention)\n",
    "\n",
    "  # 두 번째 서브 레이어 : 2개의 완전연결층, 은닉층 차원은 units\n",
    "  outputs = tf.keras.layers.Dense(units=units, activation='relu')(attention)\n",
    "  outputs = tf.keras.layers.Dense(units=d_model)(outputs)\n",
    "\n",
    "  # 완전연결층의 결과는 Dropout과 LayerNormalization이라는 훈련을 돕는 테크닉을 수행\n",
    "  outputs = tf.keras.layers.Dropout(rate=dropout)(outputs)\n",
    "  outputs = tf.keras.layers.LayerNormalization(\n",
    "      epsilon=1e-6)(attention + outputs)\n",
    "\n",
    "  return tf.keras.Model(\n",
    "      inputs=[inputs, padding_mask], outputs=outputs, name=name)"
   ]
  },
  {
   "cell_type": "code",
   "execution_count": 8,
   "id": "526ec22e",
   "metadata": {},
   "outputs": [],
   "source": [
    "# 인코더 : 임베딩, 포지션 인코딩, 그리고 여러 개 인코더레이어를 쌓아서 만들어지는 모델\n",
    "\n",
    "def encoder(vocab_size,\n",
    "            num_layers,\n",
    "            units,\n",
    "            d_model,\n",
    "            num_heads,\n",
    "            dropout,\n",
    "            name=\"encoder\"):\n",
    "  inputs = tf.keras.Input(shape=(None,), name=\"inputs\")\n",
    "\n",
    "  # 패딩 마스크 사용\n",
    "  padding_mask = tf.keras.Input(shape=(1, 1, None), name=\"padding_mask\")\n",
    "\n",
    "  # 임베딩 레이어\n",
    "  embeddings = tf.keras.layers.Embedding(vocab_size, d_model)(inputs)\n",
    "  embeddings *= tf.math.sqrt(tf.cast(d_model, tf.float32))\n",
    "\n",
    "  # 포지셔널 인코딩\n",
    "  embeddings = PositionalEncoding(vocab_size, d_model)(embeddings)\n",
    "\n",
    "  outputs = tf.keras.layers.Dropout(rate=dropout)(embeddings)\n",
    "\n",
    "  # num_layers만큼 쌓아올린 인코더의 층.\n",
    "  for i in range(num_layers):\n",
    "    outputs = encoder_layer(\n",
    "        units=units,\n",
    "        d_model=d_model,\n",
    "        num_heads=num_heads,\n",
    "        dropout=dropout,\n",
    "        name=\"encoder_layer_{}\".format(i),\n",
    "    )([outputs, padding_mask])\n",
    "\n",
    "  return tf.keras.Model(\n",
    "      inputs=[inputs, padding_mask], outputs=outputs, name=name)"
   ]
  },
  {
   "cell_type": "code",
   "execution_count": 9,
   "id": "0f5d5c6a",
   "metadata": {},
   "outputs": [],
   "source": [
    "# 디코더 하나의 레이어를 함수로 구현.\n",
    "\n",
    "# 이 하나의 레이어 안에는 세 개의 서브 레이어가 존재.\n",
    "def decoder_layer(units, d_model, num_heads, dropout, name=\"decoder_layer\"):\n",
    "  inputs = tf.keras.Input(shape=(None, d_model), name=\"inputs\")\n",
    "  enc_outputs = tf.keras.Input(shape=(None, d_model), name=\"encoder_outputs\")\n",
    "  look_ahead_mask = tf.keras.Input(\n",
    "      shape=(1, None, None), name=\"look_ahead_mask\")\n",
    "  padding_mask = tf.keras.Input(shape=(1, 1, None), name='padding_mask')\n",
    "\n",
    "  # 첫 번째 서브 레이어 : 멀티 헤드 어텐션 수행 (셀프 어텐션)\n",
    "  attention1 = MultiHeadAttention(\n",
    "      d_model, num_heads, name=\"attention_1\")(inputs={\n",
    "          'query': inputs,\n",
    "          'key': inputs,\n",
    "          'value': inputs,\n",
    "          'mask': look_ahead_mask\n",
    "      })\n",
    "\n",
    "  # 멀티 헤드 어텐션의 결과는 LayerNormalization이라는 훈련을 돕는 테크닉을 수행\n",
    "  attention1 = tf.keras.layers.LayerNormalization(\n",
    "      epsilon=1e-6)(attention1 + inputs)\n",
    "\n",
    "  # 두 번째 서브 레이어 : 마스크드 멀티 헤드 어텐션 수행 (인코더-디코더 어텐션)\n",
    "  attention2 = MultiHeadAttention(\n",
    "      d_model, num_heads, name=\"attention_2\")(inputs={\n",
    "          'query': attention1,\n",
    "          'key': enc_outputs,\n",
    "          'value': enc_outputs,\n",
    "          'mask': padding_mask\n",
    "      })\n",
    "\n",
    "  # 마스크드 멀티 헤드 어텐션의 결과는\n",
    "  # Dropout과 LayerNormalization이라는 훈련을 돕는 테크닉을 수행\n",
    "  attention2 = tf.keras.layers.Dropout(rate=dropout)(attention2)\n",
    "  attention2 = tf.keras.layers.LayerNormalization(\n",
    "      epsilon=1e-6)(attention2 + attention1)\n",
    "\n",
    "  # 세 번째 서브 레이어 : 2개의 완전연결층\n",
    "  outputs = tf.keras.layers.Dense(units=units, activation='relu')(attention2)\n",
    "  outputs = tf.keras.layers.Dense(units=d_model)(outputs)\n",
    "\n",
    "  # 완전연결층의 결과는 Dropout과 LayerNormalization 수행\n",
    "  outputs = tf.keras.layers.Dropout(rate=dropout)(outputs)\n",
    "  outputs = tf.keras.layers.LayerNormalization(\n",
    "      epsilon=1e-6)(outputs + attention2)\n",
    "\n",
    "  return tf.keras.Model(\n",
    "      inputs=[inputs, enc_outputs, look_ahead_mask, padding_mask],\n",
    "      outputs=outputs,\n",
    "      name=name)"
   ]
  },
  {
   "cell_type": "code",
   "execution_count": 10,
   "id": "3620b0fe",
   "metadata": {},
   "outputs": [],
   "source": [
    "# 디코더 : 임베딩, 포지션 인코딩, 그리고 여러 개 디코더레이어를 쌓아서 만들어지는 모델\n",
    "\n",
    "def decoder(vocab_size,\n",
    "            num_layers,\n",
    "            units,\n",
    "            d_model,\n",
    "            num_heads,\n",
    "            dropout,\n",
    "            name='decoder'):\n",
    "    \n",
    "  inputs = tf.keras.Input(shape=(None,), name='inputs')\n",
    "  enc_outputs = tf.keras.Input(shape=(None, d_model), name='encoder_outputs')\n",
    "  look_ahead_mask = tf.keras.Input(\n",
    "      shape=(1, None, None), name='look_ahead_mask')\n",
    "\n",
    "  # 패딩 마스크\n",
    "  padding_mask = tf.keras.Input(shape=(1, 1, None), name='padding_mask')\n",
    "  \n",
    "  # 임베딩 레이어\n",
    "  embeddings = tf.keras.layers.Embedding(vocab_size, d_model)(inputs)\n",
    "  embeddings *= tf.math.sqrt(tf.cast(d_model, tf.float32))\n",
    "\n",
    "  # 포지셔널 인코딩\n",
    "  embeddings = PositionalEncoding(vocab_size, d_model)(embeddings)\n",
    "\n",
    "  # Dropout이라는 훈련을 돕는 테크닉을 수행\n",
    "  outputs = tf.keras.layers.Dropout(rate=dropout)(embeddings)\n",
    "\n",
    "  for i in range(num_layers):\n",
    "    outputs = decoder_layer(\n",
    "        units=units,\n",
    "        d_model=d_model,\n",
    "        num_heads=num_heads,\n",
    "        dropout=dropout,\n",
    "        name='decoder_layer_{}'.format(i),\n",
    "    )(inputs=[outputs, enc_outputs, look_ahead_mask, padding_mask])\n",
    "\n",
    "  return tf.keras.Model(\n",
    "      inputs=[inputs, enc_outputs, look_ahead_mask, padding_mask],\n",
    "      outputs=outputs,\n",
    "      name=name)"
   ]
  },
  {
   "cell_type": "code",
   "execution_count": 11,
   "id": "c1ee5d92",
   "metadata": {},
   "outputs": [],
   "source": [
    "# Transformer\n",
    "\n",
    "def transformer(vocab_size,\n",
    "                num_layers,\n",
    "                units,\n",
    "                d_model,\n",
    "                num_heads,\n",
    "                dropout,\n",
    "                name=\"transformer\"):\n",
    "    \n",
    "  inputs = tf.keras.Input(shape=(None,), name=\"inputs\")\n",
    "  dec_inputs = tf.keras.Input(shape=(None,), name=\"dec_inputs\")\n",
    "\n",
    "  # 인코더에서 패딩을 위한 마스크\n",
    "  enc_padding_mask = tf.keras.layers.Lambda(\n",
    "      create_padding_mask, output_shape=(1, 1, None),\n",
    "      name='enc_padding_mask')(inputs)\n",
    "\n",
    "  # 디코더에서 미래의 토큰을 마스크 하기 위해서 사용.\n",
    "  # 내부적으로 패딩 마스크도 포함.\n",
    "  look_ahead_mask = tf.keras.layers.Lambda(\n",
    "      create_look_ahead_mask,\n",
    "      output_shape=(1, None, None),\n",
    "      name='look_ahead_mask')(dec_inputs)\n",
    "\n",
    "  # 두 번째 어텐션 블록에서 인코더의 벡터들을 마스킹\n",
    "  # 디코더에서 패딩을 위한 마스크\n",
    "  dec_padding_mask = tf.keras.layers.Lambda(\n",
    "      create_padding_mask, output_shape=(1, 1, None),\n",
    "      name='dec_padding_mask')(inputs)\n",
    "\n",
    "  # 인코더\n",
    "  enc_outputs = encoder(\n",
    "      vocab_size=vocab_size,\n",
    "      num_layers=num_layers,\n",
    "      units=units,\n",
    "      d_model=d_model,\n",
    "      num_heads=num_heads,\n",
    "      dropout=dropout,\n",
    "  )(inputs=[inputs, enc_padding_mask])\n",
    "\n",
    "  # 디코더\n",
    "  dec_outputs = decoder(\n",
    "      vocab_size=vocab_size,\n",
    "      num_layers=num_layers,\n",
    "      units=units,\n",
    "      d_model=d_model,\n",
    "      num_heads=num_heads,\n",
    "      dropout=dropout,\n",
    "  )(inputs=[dec_inputs, enc_outputs, look_ahead_mask, dec_padding_mask])\n",
    "\n",
    "  # 완전연결층\n",
    "  outputs = tf.keras.layers.Dense(units=vocab_size, name=\"outputs\")(dec_outputs)\n",
    "\n",
    "  return tf.keras.Model(inputs=[inputs, dec_inputs], outputs=outputs, name=name)"
   ]
  },
  {
   "cell_type": "markdown",
   "id": "d28b5c90",
   "metadata": {},
   "source": [
    "# 데이터셋을 로드하고 전처리"
   ]
  },
  {
   "cell_type": "code",
   "execution_count": 17,
   "id": "b4ad5ccc",
   "metadata": {},
   "outputs": [
    {
     "name": "stdout",
     "output_type": "stream",
     "text": [
      "                 Q            A  label\n",
      "0           12시 땡!   하루가 또 가네요.      0\n",
      "1      1지망 학교 떨어졌어    위로해 드립니다.      0\n",
      "2     3박4일 놀러가고 싶다  여행은 언제나 좋죠.      0\n",
      "3  3박4일 정도 놀러가고 싶다  여행은 언제나 좋죠.      0\n",
      "4          PPL 심하네   눈살이 찌푸려지죠.      0\n",
      "<class 'pandas.core.frame.DataFrame'>\n",
      "RangeIndex: 11823 entries, 0 to 11822\n",
      "Data columns (total 3 columns):\n",
      " #   Column  Non-Null Count  Dtype \n",
      "---  ------  --------------  ----- \n",
      " 0   Q       11823 non-null  object\n",
      " 1   A       11823 non-null  object\n",
      " 2   label   11823 non-null  int64 \n",
      "dtypes: int64(1), object(2)\n",
      "memory usage: 277.2+ KB\n",
      "None\n"
     ]
    }
   ],
   "source": [
    "import pandas as pd\n",
    "\n",
    "home_dir = os.path.expanduser(\"~\")\n",
    "file_path = os.path.join(home_dir, 'aiffel/transformer_chatbot/data/ChatbotData.csv')\n",
    "\n",
    "chatbot_data = pd.read_csv(file_path)\n",
    "print(chatbot_data.head())\n",
    "print(chatbot_data.info())\n"
   ]
  },
  {
   "cell_type": "code",
   "execution_count": 18,
   "id": "7ba6f22f",
   "metadata": {},
   "outputs": [
    {
     "name": "stdout",
     "output_type": "stream",
     "text": [
      "                             Q                         A\n",
      "11818           훔쳐보는 것도 눈치 보임.        티가 나니까 눈치가 보이는 거죠!\n",
      "11819           훔쳐보는 것도 눈치 보임.             훔쳐보는 거 티나나봐요.\n",
      "11820              흑기사 해주는 짝남.                    설렜겠어요.\n",
      "11821  힘든 연애 좋은 연애라는게 무슨 차이일까?  잘 헤어질 수 있는 사이 여부인 거 같아요.\n",
      "11822               힘들어서 결혼할까봐        도피성 결혼은 하지 않길 바라요.\n"
     ]
    }
   ],
   "source": [
    "# 챗봇을 만드는 상황이므로 감성 라벨은 필요 없다.\n",
    "chatbot_data = chatbot_data[['Q', 'A']]\n",
    "print(chatbot_data.tail())"
   ]
  },
  {
   "cell_type": "code",
   "execution_count": 22,
   "id": "a884e2a9",
   "metadata": {},
   "outputs": [
    {
     "name": "stdout",
     "output_type": "stream",
     "text": [
      "안녕하세요 ! 을 만들어 보겠습니다 . !\n"
     ]
    }
   ],
   "source": [
    "def preprocess_sentence(sentence):\n",
    "    # 1. 공백 제거\n",
    "    sentence = sentence.strip()\n",
    "\n",
    "    # 2. 단어와 구두점(. , ! ?) 사이에 공백 끼워넣기\n",
    "    sentence = re.sub(r\"([?.!,])\", r\" \\1 \", sentence)\n",
    "    sentence = re.sub(r'[\" \"]+', \" \", sentence)\n",
    "\n",
    "    # 3. 한글과 구두점을 제외한 모든 문자를 공백인 ' '로 대체\n",
    "    sentence = re.sub(r\"[^가-힣?.!,]+\", \" \", sentence)\n",
    "    \n",
    "    # 양쪽 공백 제거\n",
    "    sentence = sentence.strip()\n",
    "\n",
    "    return sentence\n",
    "\n",
    "# 테스트\n",
    "test_sentence = \"안녕하세요!Chatbot을 만들어 보겠습니다. Let's start! 12345\"\n",
    "print(preprocess_sentence(test_sentence))"
   ]
  },
  {
   "cell_type": "markdown",
   "id": "4bd25ad6",
   "metadata": {},
   "source": [
    "# 자연어처리를 위한 전처리"
   ]
  },
  {
   "cell_type": "code",
   "execution_count": 24,
   "id": "cbecfece",
   "metadata": {},
   "outputs": [],
   "source": [
    "# Tensorflow Datasets 의 SubwordTextEncoder 를 tokenizer 로 사용하여 단어사전 생성 (각 단어를 정수로 인코딩)\n",
    "import tensorflow_datasets as tfds\n",
    "tokenizer = tfds.deprecated.text.SubwordTextEncoder.build_from_corpus(chatbot_data, target_vocab_size=2**13)"
   ]
  },
  {
   "cell_type": "code",
   "execution_count": 29,
   "id": "6349cf14",
   "metadata": {},
   "outputs": [
    {
     "name": "stdout",
     "output_type": "stream",
     "text": [
      "START_TOKEN의 번호 : [257]\n",
      "END_TOKEN의 번호 : [258]\n",
      "259\n"
     ]
    }
   ],
   "source": [
    "# 이때 디코더의 문장 생성 과정에서 사용할 '시작 토큰'과 '종료 토큰'에 대해서도 임의로 단어장에 추가하여서 정수로 사상. \n",
    "# 이미 생성된 단어장의 번호와 겹치지 않도록 각각 단어장의 크기와 그보다 1이 큰 수를 번호로 부여\n",
    "# 시작 토큰과 종료 토큰에 고유한 정수를 부여.\n",
    "START_TOKEN, END_TOKEN = [tokenizer.vocab_size], [tokenizer.vocab_size + 1]\n",
    "\n",
    "print('START_TOKEN의 번호 :' ,[tokenizer.vocab_size])\n",
    "print('END_TOKEN의 번호 :' ,[tokenizer.vocab_size + 1])\n",
    "\n",
    "# 시작 토큰과 종료 토큰을 고려하여 +2를 하여 단어장의 크기를 산정.\n",
    "VOCAB_SIZE = tokenizer.vocab_size + 2\n",
    "print(VOCAB_SIZE)"
   ]
  },
  {
   "cell_type": "code",
   "execution_count": 82,
   "id": "4c1a26b0",
   "metadata": {},
   "outputs": [
    {
     "name": "stdout",
     "output_type": "stream",
     "text": [
      "100번째 질문 샘플: 거지됐어\n",
      "정수 인코딩 후의 100번째 질문 샘플: [235, 178, 177, 237, 168, 129, 236, 145, 145, 237, 151, 181]\n",
      "100번째 답변 샘플: 밥 사줄 친구를 찾아 보세요~\n",
      "정수 인코딩 후의 100번째 답변 샘플: [236, 177, 166, 33, 237, 131, 173, 237, 165, 133, 33, 237, 186, 157, 235, 182, 173, 236, 166, 189, 33, 237, 177, 191, 237, 150, 133, 33, 236, 180, 181, 237, 133, 185, 237, 155, 149, 127]\n"
     ]
    }
   ],
   "source": [
    "# 임의의 22번째 샘플에 대해서 정수 인코딩 작업을 수행.\n",
    "# 각 토큰을 고유한 정수로 변환\n",
    "print('100번째 질문 샘플: ' + chatbot_data['Q'][100])\n",
    "print('정수 인코딩 후의 100번째 질문 샘플: {}'.format(tokenizer.encode(chatbot_data['Q'][100])))\n",
    "print('100번째 답변 샘플: ' + chatbot_data['A'][100])\n",
    "print('정수 인코딩 후의 100번째 답변 샘플: {}'.format(tokenizer.encode(chatbot_data['A'][100])))"
   ]
  },
  {
   "cell_type": "code",
   "execution_count": 87,
   "id": "2d384fa2",
   "metadata": {},
   "outputs": [
    {
     "data": {
      "text/plain": [
       "'거지'"
      ]
     },
     "execution_count": 87,
     "metadata": {},
     "output_type": "execute_result"
    }
   ],
   "source": [
    "tokenizer.decode([235, 178, 177, 237, 168, 129])"
   ]
  },
  {
   "cell_type": "code",
   "execution_count": 91,
   "id": "75a63a2b",
   "metadata": {},
   "outputs": [
    {
     "name": "stdout",
     "output_type": "stream",
     "text": [
      "40\n"
     ]
    }
   ],
   "source": [
    "#### 샘플의 최대 허용 길이 또는 패딩 후의 최종 길이\n",
    "MAX_LENGTH = 40\n",
    "print(MAX_LENGTH)"
   ]
  },
  {
   "cell_type": "code",
   "execution_count": 92,
   "id": "eb50d961",
   "metadata": {},
   "outputs": [],
   "source": [
    "# 정수 인코딩, 최대 길이를 초과하는 샘플 제거, 패딩\n",
    "def tokenize_and_filter(inputs, outputs):\n",
    "  tokenized_inputs, tokenized_outputs = [], []\n",
    "  \n",
    "  for (sentence1, sentence2) in zip(inputs, outputs):\n",
    "    # 정수 인코딩 과정에서 시작 토큰과 종료 토큰을 추가\n",
    "    sentence1 = START_TOKEN + tokenizer.encode(sentence1) + END_TOKEN\n",
    "    sentence2 = START_TOKEN + tokenizer.encode(sentence2) + END_TOKEN\n",
    "\n",
    "    # MAX_LENGTH 이하인 경우에만 데이터셋으로 허용\n",
    "    if len(sentence1) <= MAX_LENGTH and len(sentence2) <= MAX_LENGTH:\n",
    "      tokenized_inputs.append(sentence1)\n",
    "      tokenized_outputs.append(sentence2)\n",
    "  \n",
    "  # MAX_LENGTH 로 모든 데이터셋을 패딩\n",
    "  tokenized_inputs = tf.keras.preprocessing.sequence.pad_sequences(\n",
    "      tokenized_inputs, maxlen=MAX_LENGTH, padding='post')\n",
    "  tokenized_outputs = tf.keras.preprocessing.sequence.pad_sequences(\n",
    "      tokenized_outputs, maxlen=MAX_LENGTH, padding='post')\n",
    "  \n",
    "  return tokenized_inputs, tokenized_outputs"
   ]
  },
  {
   "cell_type": "code",
   "execution_count": 93,
   "id": "4f2a787b",
   "metadata": {},
   "outputs": [
    {
     "name": "stdout",
     "output_type": "stream",
     "text": [
      "단어장의 크기 : 259\n",
      "필터링 후의 질문 샘플 개수: 5497\n",
      "필터링 후의 답변 샘플 개수: 5497\n"
     ]
    }
   ],
   "source": [
    "# 정수 인코딩 과정을 수행하면서 샘플의 길이가 40을 넘는 경우는 샘플들을 필터링하였으므로 일부 샘플이 제외됨. \n",
    "# 단어장의 크기와 샘플의 개수를 확인.\n",
    "questions, answers = tokenize_and_filter(chatbot_data['Q'], chatbot_data['A'])\n",
    "print('단어장의 크기 :',(VOCAB_SIZE))\n",
    "print('필터링 후의 질문 샘플 개수: {}'.format(len(questions)))\n",
    "print('필터링 후의 답변 샘플 개수: {}'.format(len(answers)))"
   ]
  },
  {
   "cell_type": "code",
   "execution_count": 94,
   "id": "f1d897f1",
   "metadata": {},
   "outputs": [],
   "source": [
    "# 질문과 답변의 쌍을 tf.data.Dataset API의 입력으로 사용하여 파이프라인을 구성. \n",
    "# 이때, 교사 강요를 위해서 answers[:, :-1]를 디코더의 입력값, answers[:, 1:]를 디코더의 레이블로 사용.\n",
    "\n",
    "BATCH_SIZE = 32\n",
    "BUFFER_SIZE = 10000\n",
    "\n",
    "# 디코더는 이전의 target을 다음의 input으로 사용.\n",
    "# 이에 따라 outputs에서는 START_TOKEN을 제거.\n",
    "dataset = tf.data.Dataset.from_tensor_slices((\n",
    "    {\n",
    "        'inputs': questions,\n",
    "        'dec_inputs': answers[:, :-1]\n",
    "    },\n",
    "    {\n",
    "        'outputs': answers[:, 1:]\n",
    "    },\n",
    "))\n",
    "\n",
    "dataset = dataset.cache()\n",
    "dataset = dataset.shuffle(BUFFER_SIZE)\n",
    "dataset = dataset.batch(BATCH_SIZE)\n",
    "dataset = dataset.prefetch(tf.data.experimental.AUTOTUNE)"
   ]
  },
  {
   "cell_type": "code",
   "execution_count": 64,
   "id": "c636ccbd",
   "metadata": {},
   "outputs": [
    {
     "name": "stdout",
     "output_type": "stream",
     "text": [
      "Model: \"transformer\"\n",
      "__________________________________________________________________________________________________\n",
      "Layer (type)                    Output Shape         Param #     Connected to                     \n",
      "==================================================================================================\n",
      "inputs (InputLayer)             [(None, None)]       0                                            \n",
      "__________________________________________________________________________________________________\n",
      "dec_inputs (InputLayer)         [(None, None)]       0                                            \n",
      "__________________________________________________________________________________________________\n",
      "enc_padding_mask (Lambda)       (None, 1, 1, None)   0           inputs[0][0]                     \n",
      "__________________________________________________________________________________________________\n",
      "encoder (Functional)            (None, None, 256)    1120512     inputs[0][0]                     \n",
      "                                                                 enc_padding_mask[0][0]           \n",
      "__________________________________________________________________________________________________\n",
      "look_ahead_mask (Lambda)        (None, 1, None, None 0           dec_inputs[0][0]                 \n",
      "__________________________________________________________________________________________________\n",
      "dec_padding_mask (Lambda)       (None, 1, 1, None)   0           inputs[0][0]                     \n",
      "__________________________________________________________________________________________________\n",
      "decoder (Functional)            (None, None, 256)    1647872     dec_inputs[0][0]                 \n",
      "                                                                 encoder[0][0]                    \n",
      "                                                                 look_ahead_mask[0][0]            \n",
      "                                                                 dec_padding_mask[0][0]           \n",
      "__________________________________________________________________________________________________\n",
      "outputs (Dense)                 (None, None, 259)    66563       decoder[0][0]                    \n",
      "==================================================================================================\n",
      "Total params: 2,834,947\n",
      "Trainable params: 2,834,947\n",
      "Non-trainable params: 0\n",
      "__________________________________________________________________________________________________\n"
     ]
    }
   ],
   "source": [
    "# num_layers, d-Model, units는 전부 사용자가 정할 수 있는 하이퍼파라미터 값.\n",
    "# 논문에서 num_layers는 6, d-Model은 512였지만, \n",
    "# 빠르고 원활한 훈련을 위해 여기서는 각 하이퍼파라미터를 논문에서보다는 작은 값을 사용.\n",
    "\n",
    "tf.keras.backend.clear_session()\n",
    "\n",
    "# 하이퍼파라미터\n",
    "NUM_LAYERS = 2 # 인코더와 디코더의 층의 개수\n",
    "D_MODEL = 256 # 인코더와 디코더 내부의 입, 출력의 고정 차원\n",
    "NUM_HEADS = 8 # 멀티 헤드 어텐션에서의 헤드 수 \n",
    "UNITS = 512 # 피드 포워드 신경망의 은닉층의 크기\n",
    "DROPOUT = 0.1 # 드롭아웃의 비율\n",
    "\n",
    "model = transformer(\n",
    "    vocab_size=VOCAB_SIZE,\n",
    "    num_layers=NUM_LAYERS,\n",
    "    units=UNITS,\n",
    "    d_model=D_MODEL,\n",
    "    num_heads=NUM_HEADS,\n",
    "    dropout=DROPOUT)\n",
    "\n",
    "model.summary()"
   ]
  },
  {
   "cell_type": "code",
   "execution_count": 65,
   "id": "db3dc661",
   "metadata": {},
   "outputs": [],
   "source": [
    "def loss_function(y_true, y_pred):\n",
    "  y_true = tf.reshape(y_true, shape=(-1, MAX_LENGTH - 1))\n",
    "  \n",
    "  loss = tf.keras.losses.SparseCategoricalCrossentropy(\n",
    "      from_logits=True, reduction='none')(y_true, y_pred)\n",
    "\n",
    "  mask = tf.cast(tf.not_equal(y_true, 0), tf.float32)\n",
    "  loss = tf.multiply(loss, mask)\n",
    "\n",
    "  return tf.reduce_mean(loss)"
   ]
  },
  {
   "cell_type": "code",
   "execution_count": 66,
   "id": "ef98f7dd",
   "metadata": {},
   "outputs": [],
   "source": [
    "class CustomSchedule(tf.keras.optimizers.schedules.LearningRateSchedule):\n",
    "\n",
    "  def __init__(self, d_model, warmup_steps=4000):\n",
    "    super(CustomSchedule, self).__init__()\n",
    "\n",
    "    self.d_model = d_model\n",
    "    self.d_model = tf.cast(self.d_model, tf.float32)\n",
    "\n",
    "    self.warmup_steps = warmup_steps\n",
    "\n",
    "  def __call__(self, step):\n",
    "    arg1 = tf.math.rsqrt(step)\n",
    "    arg2 = step * (self.warmup_steps**-1.5)\n",
    "\n",
    "    return tf.math.rsqrt(self.d_model) * tf.math.minimum(arg1, arg2)"
   ]
  },
  {
   "cell_type": "code",
   "execution_count": 95,
   "id": "1eb7273c",
   "metadata": {},
   "outputs": [],
   "source": [
    "learning_rate = CustomSchedule(D_MODEL)\n",
    "\n",
    "optimizer = tf.keras.optimizers.Adam(\n",
    "    learning_rate, beta_1=0.9, beta_2=0.98, epsilon=1e-9)\n",
    "\n",
    "def accuracy(y_true, y_pred):\n",
    "  y_true = tf.reshape(y_true, shape=(-1, MAX_LENGTH - 1))\n",
    "  return tf.keras.metrics.sparse_categorical_accuracy(y_true, y_pred)\n",
    "\n",
    "model.compile(optimizer=optimizer, loss=loss_function, metrics=[accuracy])"
   ]
  },
  {
   "cell_type": "code",
   "execution_count": 104,
   "id": "52181497",
   "metadata": {},
   "outputs": [
    {
     "name": "stdout",
     "output_type": "stream",
     "text": [
      "Epoch 1/50\n",
      "172/172 [==============================] - 4s 25ms/step - loss: 0.5450 - accuracy: 0.5358\n",
      "Epoch 2/50\n",
      "172/172 [==============================] - 4s 25ms/step - loss: 0.5245 - accuracy: 0.5428\n",
      "Epoch 3/50\n",
      "172/172 [==============================] - 4s 25ms/step - loss: 0.5076 - accuracy: 0.5479\n",
      "Epoch 4/50\n",
      "172/172 [==============================] - 4s 25ms/step - loss: 0.4892 - accuracy: 0.5529\n",
      "Epoch 5/50\n",
      "172/172 [==============================] - 4s 26ms/step - loss: 0.4706 - accuracy: 0.5594\n",
      "Epoch 6/50\n",
      "172/172 [==============================] - 4s 26ms/step - loss: 0.4567 - accuracy: 0.5631\n",
      "Epoch 7/50\n",
      "172/172 [==============================] - 4s 26ms/step - loss: 0.4420 - accuracy: 0.5687\n",
      "Epoch 8/50\n",
      "172/172 [==============================] - 4s 26ms/step - loss: 0.4318 - accuracy: 0.5716\n",
      "Epoch 9/50\n",
      "172/172 [==============================] - 4s 26ms/step - loss: 0.4166 - accuracy: 0.5756\n",
      "Epoch 10/50\n",
      "172/172 [==============================] - 4s 26ms/step - loss: 0.4059 - accuracy: 0.5792\n",
      "Epoch 11/50\n",
      "172/172 [==============================] - 4s 26ms/step - loss: 0.4003 - accuracy: 0.5801\n",
      "Epoch 12/50\n",
      "172/172 [==============================] - 4s 26ms/step - loss: 0.3895 - accuracy: 0.5842\n",
      "Epoch 13/50\n",
      "172/172 [==============================] - 4s 26ms/step - loss: 0.3811 - accuracy: 0.5869\n",
      "Epoch 14/50\n",
      "172/172 [==============================] - 4s 26ms/step - loss: 0.3765 - accuracy: 0.5878\n",
      "Epoch 15/50\n",
      "172/172 [==============================] - 4s 26ms/step - loss: 0.3527 - accuracy: 0.5953\n",
      "Epoch 16/50\n",
      "172/172 [==============================] - 4s 26ms/step - loss: 0.3341 - accuracy: 0.6027\n",
      "Epoch 17/50\n",
      "172/172 [==============================] - 4s 25ms/step - loss: 0.3141 - accuracy: 0.6082\n",
      "Epoch 18/50\n",
      "172/172 [==============================] - 4s 26ms/step - loss: 0.2953 - accuracy: 0.6145\n",
      "Epoch 19/50\n",
      "172/172 [==============================] - 4s 25ms/step - loss: 0.2783 - accuracy: 0.6201\n",
      "Epoch 20/50\n",
      "172/172 [==============================] - 4s 25ms/step - loss: 0.2617 - accuracy: 0.6255\n",
      "Epoch 21/50\n",
      "172/172 [==============================] - 4s 25ms/step - loss: 0.2466 - accuracy: 0.6303\n",
      "Epoch 22/50\n",
      "172/172 [==============================] - 4s 25ms/step - loss: 0.2330 - accuracy: 0.6356\n",
      "Epoch 23/50\n",
      "172/172 [==============================] - 4s 26ms/step - loss: 0.2201 - accuracy: 0.6406\n",
      "Epoch 24/50\n",
      "172/172 [==============================] - 4s 26ms/step - loss: 0.2091 - accuracy: 0.6437\n",
      "Epoch 25/50\n",
      "172/172 [==============================] - 4s 26ms/step - loss: 0.1970 - accuracy: 0.6480\n",
      "Epoch 26/50\n",
      "172/172 [==============================] - 4s 25ms/step - loss: 0.1859 - accuracy: 0.6514\n",
      "Epoch 27/50\n",
      "172/172 [==============================] - 4s 26ms/step - loss: 0.1787 - accuracy: 0.6541\n",
      "Epoch 28/50\n",
      "172/172 [==============================] - 4s 25ms/step - loss: 0.1676 - accuracy: 0.6574\n",
      "Epoch 29/50\n",
      "172/172 [==============================] - 4s 25ms/step - loss: 0.1586 - accuracy: 0.6608\n",
      "Epoch 30/50\n",
      "172/172 [==============================] - 4s 26ms/step - loss: 0.1539 - accuracy: 0.6629\n",
      "Epoch 31/50\n",
      "172/172 [==============================] - 4s 26ms/step - loss: 0.1473 - accuracy: 0.6654\n",
      "Epoch 32/50\n",
      "172/172 [==============================] - 4s 26ms/step - loss: 0.1399 - accuracy: 0.6680\n",
      "Epoch 33/50\n",
      "172/172 [==============================] - 4s 25ms/step - loss: 0.1328 - accuracy: 0.6694\n",
      "Epoch 34/50\n",
      "172/172 [==============================] - 4s 25ms/step - loss: 0.1287 - accuracy: 0.6714\n",
      "Epoch 35/50\n",
      "172/172 [==============================] - 4s 25ms/step - loss: 0.1235 - accuracy: 0.6729\n",
      "Epoch 36/50\n",
      "172/172 [==============================] - 4s 25ms/step - loss: 0.1187 - accuracy: 0.6749\n",
      "Epoch 37/50\n",
      "172/172 [==============================] - 4s 26ms/step - loss: 0.1122 - accuracy: 0.6772\n",
      "Epoch 38/50\n",
      "172/172 [==============================] - 4s 26ms/step - loss: 0.1089 - accuracy: 0.6784\n",
      "Epoch 39/50\n",
      "172/172 [==============================] - 4s 26ms/step - loss: 0.1064 - accuracy: 0.6796\n",
      "Epoch 40/50\n",
      "172/172 [==============================] - 4s 26ms/step - loss: 0.1032 - accuracy: 0.6808\n",
      "Epoch 41/50\n",
      "172/172 [==============================] - 4s 26ms/step - loss: 0.0979 - accuracy: 0.6822\n",
      "Epoch 42/50\n",
      "172/172 [==============================] - 4s 25ms/step - loss: 0.0944 - accuracy: 0.6834\n",
      "Epoch 43/50\n",
      "172/172 [==============================] - 4s 26ms/step - loss: 0.0913 - accuracy: 0.6849\n",
      "Epoch 44/50\n",
      "172/172 [==============================] - 4s 26ms/step - loss: 0.0881 - accuracy: 0.6858\n",
      "Epoch 45/50\n",
      "172/172 [==============================] - 5s 26ms/step - loss: 0.0889 - accuracy: 0.6859\n",
      "Epoch 46/50\n",
      "172/172 [==============================] - 4s 26ms/step - loss: 0.0843 - accuracy: 0.6873\n",
      "Epoch 47/50\n",
      "172/172 [==============================] - 4s 26ms/step - loss: 0.0810 - accuracy: 0.6884\n",
      "Epoch 48/50\n",
      "172/172 [==============================] - 4s 26ms/step - loss: 0.0789 - accuracy: 0.6888\n",
      "Epoch 49/50\n",
      "172/172 [==============================] - 4s 26ms/step - loss: 0.0775 - accuracy: 0.6896\n",
      "Epoch 50/50\n",
      "172/172 [==============================] - 4s 26ms/step - loss: 0.0747 - accuracy: 0.6911\n"
     ]
    },
    {
     "data": {
      "text/plain": [
       "<keras.callbacks.History at 0x79a3042407f0>"
      ]
     },
     "execution_count": 104,
     "metadata": {},
     "output_type": "execute_result"
    }
   ],
   "source": [
    "EPOCHS = 50\n",
    "model.fit(dataset, epochs=EPOCHS, verbose=1)"
   ]
  },
  {
   "cell_type": "markdown",
   "id": "a27520e5",
   "metadata": {},
   "source": [
    "# 테스트"
   ]
  },
  {
   "cell_type": "code",
   "execution_count": 69,
   "id": "d18e7b76",
   "metadata": {},
   "outputs": [],
   "source": [
    "def decoder_inference(sentence):\n",
    "  sentence = preprocess_sentence(sentence)\n",
    "\n",
    "  # 입력된 문장을 정수 인코딩 후, 시작 토큰과 종료 토큰을 앞뒤로 추가.\n",
    "  # ex) Where have you been? → [[8331   86   30    5 1059    7 8332]]\n",
    "  sentence = tf.expand_dims(\n",
    "      START_TOKEN + tokenizer.encode(sentence) + END_TOKEN, axis=0)\n",
    "\n",
    "  # 디코더의 현재까지의 예측한 출력 시퀀스가 지속적으로 저장되는 변수.\n",
    "  # 처음에는 예측한 내용이 없음으로 시작 토큰만 별도 저장. ex) 8331\n",
    "  output_sequence = tf.expand_dims(START_TOKEN, 0)\n",
    "\n",
    "  # 디코더의 인퍼런스 단계\n",
    "  for i in range(MAX_LENGTH):\n",
    "    # 디코더는 최대 MAX_LENGTH의 길이만큼 다음 단어 예측을 반복합니다.\n",
    "    predictions = model(inputs=[sentence, output_sequence], training=False)\n",
    "    predictions = predictions[:, -1:, :]\n",
    "\n",
    "    # 현재 예측한 단어의 정수\n",
    "    predicted_id = tf.cast(tf.argmax(predictions, axis=-1), tf.int32)\n",
    "\n",
    "    # 만약 현재 예측한 단어가 종료 토큰이라면 for문을 종료\n",
    "    if tf.equal(predicted_id, END_TOKEN[0]):\n",
    "      break\n",
    "\n",
    "    # 예측한 단어들은 지속적으로 output_sequence에 추가됩니다.\n",
    "    # 이 output_sequence는 다시 디코더의 입력이 됩니다.\n",
    "    output_sequence = tf.concat([output_sequence, predicted_id], axis=-1)\n",
    "\n",
    "  return tf.squeeze(output_sequence, axis=0)"
   ]
  },
  {
   "cell_type": "code",
   "execution_count": 70,
   "id": "bebc729b",
   "metadata": {},
   "outputs": [],
   "source": [
    "# 임의의 입력 문장에 대해서 decoder_inference() 함수를 호출하여 챗봇의 대답을 얻는 sentence_generation() 함수를 만듭니다.\n",
    "def sentence_generation(sentence):\n",
    "  # 입력 문장에 대해서 디코더를 동작 시켜 예측된 정수 시퀀스를 리턴받습니다.\n",
    "  prediction = decoder_inference(sentence)\n",
    "\n",
    "  # 정수 시퀀스를 다시 텍스트 시퀀스로 변환합니다.\n",
    "  predicted_sentence = tokenizer.decode(\n",
    "      [i for i in prediction if i < tokenizer.vocab_size])\n",
    "\n",
    "  print('입력 : {}'.format(sentence))\n",
    "  print('출력 : {}'.format(predicted_sentence))\n",
    "\n",
    "  return predicted_sentence"
   ]
  },
  {
   "cell_type": "code",
   "execution_count": 105,
   "id": "594bc9c9",
   "metadata": {},
   "outputs": [
    {
     "name": "stdout",
     "output_type": "stream",
     "text": [
      "입력 : 우울하다\n",
      "출력 : 울적..... 우울할땐... 울면\n"
     ]
    },
    {
     "data": {
      "text/plain": [
       "'울적..... 우울할땐... 울면'"
      ]
     },
     "execution_count": 105,
     "metadata": {},
     "output_type": "execute_result"
    }
   ],
   "source": [
    "sentence_generation('우울하다')"
   ]
  },
  {
   "cell_type": "code",
   "execution_count": 106,
   "id": "6c88c56c",
   "metadata": {},
   "outputs": [
    {
     "name": "stdout",
     "output_type": "stream",
     "text": [
      "입력 : 우울해\n",
      "출력 : 울어도 충분해요.\n"
     ]
    },
    {
     "data": {
      "text/plain": [
       "'울어도 충분해요.'"
      ]
     },
     "execution_count": 106,
     "metadata": {},
     "output_type": "execute_result"
    }
   ],
   "source": [
    "sentence_generation('우울해')"
   ]
  },
  {
   "cell_type": "code",
   "execution_count": 107,
   "id": "bfa18805",
   "metadata": {},
   "outputs": [
    {
     "name": "stdout",
     "output_type": "stream",
     "text": [
      "입력 : 힘들다\n",
      "출력 : 힘들겠죠.\n"
     ]
    },
    {
     "data": {
      "text/plain": [
       "'힘들겠죠.'"
      ]
     },
     "execution_count": 107,
     "metadata": {},
     "output_type": "execute_result"
    }
   ],
   "source": [
    "sentence_generation('힘들다')"
   ]
  },
  {
   "cell_type": "code",
   "execution_count": 108,
   "id": "e64961a3",
   "metadata": {},
   "outputs": [
    {
     "name": "stdout",
     "output_type": "stream",
     "text": [
      "입력 : 복잡한 문장으로 대답해봐\n",
      "출력 : 일이라도 필요하겠죠.\n"
     ]
    },
    {
     "data": {
      "text/plain": [
       "'일이라도 필요하겠죠.'"
      ]
     },
     "execution_count": 108,
     "metadata": {},
     "output_type": "execute_result"
    }
   ],
   "source": [
    "sentence_generation('복잡한 문장으로 대답해봐')"
   ]
  },
  {
   "cell_type": "code",
   "execution_count": 109,
   "id": "074319d7",
   "metadata": {},
   "outputs": [
    {
     "name": "stdout",
     "output_type": "stream",
     "text": [
      "입력 : 세 문장 이상으로 답해봐\n",
      "출력 : 자연스러운 현상이에요.\n"
     ]
    },
    {
     "data": {
      "text/plain": [
       "'자연스러운 현상이에요.'"
      ]
     },
     "execution_count": 109,
     "metadata": {},
     "output_type": "execute_result"
    }
   ],
   "source": [
    "sentence_generation('세 문장 이상으로 답해봐')"
   ]
  },
  {
   "cell_type": "code",
   "execution_count": 111,
   "id": "379851eb",
   "metadata": {},
   "outputs": [
    {
     "name": "stdout",
     "output_type": "stream",
     "text": [
      "입력 : 심리상담\n",
      "출력 : 무관심이 가보세요.\n"
     ]
    },
    {
     "data": {
      "text/plain": [
       "'무관심이 가보세요.'"
      ]
     },
     "execution_count": 111,
     "metadata": {},
     "output_type": "execute_result"
    }
   ],
   "source": [
    "sentence_generation('심리상담')"
   ]
  },
  {
   "cell_type": "code",
   "execution_count": 112,
   "id": "affa6c05",
   "metadata": {},
   "outputs": [
    {
     "name": "stdout",
     "output_type": "stream",
     "text": [
      "입력 : 아무말\n",
      "출력 : 아직 실감이 되길 바랍니다.\n"
     ]
    },
    {
     "data": {
      "text/plain": [
       "'아직 실감이 되길 바랍니다.'"
      ]
     },
     "execution_count": 112,
     "metadata": {},
     "output_type": "execute_result"
    }
   ],
   "source": [
    "sentence_generation('아무말')"
   ]
  },
  {
   "cell_type": "code",
   "execution_count": 113,
   "id": "a1c67d37",
   "metadata": {},
   "outputs": [
    {
     "name": "stdout",
     "output_type": "stream",
     "text": [
      "입력 : ?\n",
      "출력 : 저는 위로봇입니다.\n"
     ]
    },
    {
     "data": {
      "text/plain": [
       "'저는 위로봇입니다.'"
      ]
     },
     "execution_count": 113,
     "metadata": {},
     "output_type": "execute_result"
    }
   ],
   "source": [
    "sentence_generation('?')"
   ]
  },
  {
   "cell_type": "code",
   "execution_count": 114,
   "id": "84b62d33",
   "metadata": {},
   "outputs": [
    {
     "name": "stdout",
     "output_type": "stream",
     "text": [
      "입력 : !\n",
      "출력 : 힘을 만살죄!\n"
     ]
    },
    {
     "data": {
      "text/plain": [
       "'힘을 만살죄!'"
      ]
     },
     "execution_count": 114,
     "metadata": {},
     "output_type": "execute_result"
    }
   ],
   "source": [
    "sentence_generation('!')"
   ]
  },
  {
   "cell_type": "code",
   "execution_count": 115,
   "id": "7246427a",
   "metadata": {},
   "outputs": [
    {
     "name": "stdout",
     "output_type": "stream",
     "text": [
      "입력 : .\n",
      "출력 : 이�나\n"
     ]
    },
    {
     "data": {
      "text/plain": [
       "'이�나'"
      ]
     },
     "execution_count": 115,
     "metadata": {},
     "output_type": "execute_result"
    }
   ],
   "source": [
    "sentence_generation('.')"
   ]
  },
  {
   "cell_type": "code",
   "execution_count": 116,
   "id": "130d592e",
   "metadata": {},
   "outputs": [
    {
     "name": "stdout",
     "output_type": "stream",
     "text": [
      "입력 : 어떻게 할까\n",
      "출력 : 답답하신가봐요.\n"
     ]
    },
    {
     "data": {
      "text/plain": [
       "'답답하신가봐요.'"
      ]
     },
     "execution_count": 116,
     "metadata": {},
     "output_type": "execute_result"
    }
   ],
   "source": [
    "sentence_generation('어떻게 할까')"
   ]
  },
  {
   "cell_type": "code",
   "execution_count": null,
   "id": "e65a05ef",
   "metadata": {},
   "outputs": [],
   "source": []
  }
 ],
 "metadata": {
  "kernelspec": {
   "display_name": "Python 3 (ipykernel)",
   "language": "python",
   "name": "python3"
  },
  "language_info": {
   "codemirror_mode": {
    "name": "ipython",
    "version": 3
   },
   "file_extension": ".py",
   "mimetype": "text/x-python",
   "name": "python",
   "nbconvert_exporter": "python",
   "pygments_lexer": "ipython3",
   "version": "3.9.7"
  }
 },
 "nbformat": 4,
 "nbformat_minor": 5
}
