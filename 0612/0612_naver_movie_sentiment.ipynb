{
 "cells": [
  {
   "cell_type": "code",
   "execution_count": 1,
   "id": "292be2c7",
   "metadata": {},
   "outputs": [
    {
     "name": "stdout",
     "output_type": "stream",
     "text": [
      "1.3.3\n",
      "0.5.2\n",
      "4.1.2\n"
     ]
    }
   ],
   "source": [
    "import pandas\n",
    "import konlpy\n",
    "import gensim\n",
    "\n",
    "print(pandas.__version__)\n",
    "print(konlpy.__version__)\n",
    "print(gensim.__version__)"
   ]
  },
  {
   "cell_type": "markdown",
   "id": "9f7bc8fd",
   "metadata": {},
   "source": [
    "# 1. 데이터 준비와 확인"
   ]
  },
  {
   "cell_type": "code",
   "execution_count": 2,
   "id": "546a71a9",
   "metadata": {
    "scrolled": true
   },
   "outputs": [
    {
     "data": {
      "text/html": [
       "<div>\n",
       "<style scoped>\n",
       "    .dataframe tbody tr th:only-of-type {\n",
       "        vertical-align: middle;\n",
       "    }\n",
       "\n",
       "    .dataframe tbody tr th {\n",
       "        vertical-align: top;\n",
       "    }\n",
       "\n",
       "    .dataframe thead th {\n",
       "        text-align: right;\n",
       "    }\n",
       "</style>\n",
       "<table border=\"1\" class=\"dataframe\">\n",
       "  <thead>\n",
       "    <tr style=\"text-align: right;\">\n",
       "      <th></th>\n",
       "      <th>id</th>\n",
       "      <th>document</th>\n",
       "      <th>label</th>\n",
       "    </tr>\n",
       "  </thead>\n",
       "  <tbody>\n",
       "    <tr>\n",
       "      <th>0</th>\n",
       "      <td>9976970</td>\n",
       "      <td>아 더빙.. 진짜 짜증나네요 목소리</td>\n",
       "      <td>0</td>\n",
       "    </tr>\n",
       "    <tr>\n",
       "      <th>1</th>\n",
       "      <td>3819312</td>\n",
       "      <td>흠...포스터보고 초딩영화줄....오버연기조차 가볍지 않구나</td>\n",
       "      <td>1</td>\n",
       "    </tr>\n",
       "    <tr>\n",
       "      <th>2</th>\n",
       "      <td>10265843</td>\n",
       "      <td>너무재밓었다그래서보는것을추천한다</td>\n",
       "      <td>0</td>\n",
       "    </tr>\n",
       "    <tr>\n",
       "      <th>3</th>\n",
       "      <td>9045019</td>\n",
       "      <td>교도소 이야기구먼 ..솔직히 재미는 없다..평점 조정</td>\n",
       "      <td>0</td>\n",
       "    </tr>\n",
       "    <tr>\n",
       "      <th>4</th>\n",
       "      <td>6483659</td>\n",
       "      <td>사이몬페그의 익살스런 연기가 돋보였던 영화!스파이더맨에서 늙어보이기만 했던 커스틴 ...</td>\n",
       "      <td>1</td>\n",
       "    </tr>\n",
       "  </tbody>\n",
       "</table>\n",
       "</div>"
      ],
      "text/plain": [
       "         id                                           document  label\n",
       "0   9976970                                아 더빙.. 진짜 짜증나네요 목소리      0\n",
       "1   3819312                  흠...포스터보고 초딩영화줄....오버연기조차 가볍지 않구나      1\n",
       "2  10265843                                  너무재밓었다그래서보는것을추천한다      0\n",
       "3   9045019                      교도소 이야기구먼 ..솔직히 재미는 없다..평점 조정      0\n",
       "4   6483659  사이몬페그의 익살스런 연기가 돋보였던 영화!스파이더맨에서 늙어보이기만 했던 커스틴 ...      1"
      ]
     },
     "execution_count": 2,
     "metadata": {},
     "output_type": "execute_result"
    }
   ],
   "source": [
    "import pandas as pd\n",
    "\n",
    "# 데이터를 읽어봅시다. \n",
    "train_data = pd.read_table('~/aiffel/0612_sentiment_classification/data/ratings_train.txt')\n",
    "test_data = pd.read_table('~/aiffel/0612_sentiment_classification/data/ratings_test.txt')\n",
    "\n",
    "train_data.head()"
   ]
  },
  {
   "cell_type": "markdown",
   "id": "2fec9e48",
   "metadata": {},
   "source": [
    "# 2. 데이터로더 구성"
   ]
  },
  {
   "cell_type": "code",
   "execution_count": 14,
   "id": "0364ee6a",
   "metadata": {},
   "outputs": [],
   "source": [
    "from konlpy.tag import Mecab\n",
    "import numpy as np\n",
    "from collections import Counter\n",
    "\n",
    "tokenizer = Mecab()\n",
    "stopwords = ['의','가','이','은','들','는','좀','잘','걍','과','도','를','으로','자','에','와','한','하다']\n",
    "\n",
    "def load_data(train_data, test_data, num_words=10000):\n",
    "    # [[YOUR CODE]]\n",
    "    train_data.drop_duplicates(subset=['document'], inplace=True)\n",
    "    train_data = train_data.dropna(how = 'any') \n",
    "    test_data.drop_duplicates(subset=['document'], inplace=True)\n",
    "    test_data = test_data.dropna(how = 'any') \n",
    "    \n",
    "    X_train = []\n",
    "    for sentence in train_data['document']:\n",
    "        temp_X = tokenizer.morphs(sentence) # 토큰화\n",
    "        temp_X = [word for word in temp_X if not word in stopwords] # 불용어 제거\n",
    "        X_train.append(temp_X)\n",
    "\n",
    "    X_test = []\n",
    "    for sentence in test_data['document']:\n",
    "        temp_X = tokenizer.morphs(sentence) # 토큰화\n",
    "        temp_X = [word for word in temp_X if not word in stopwords] # 불용어 제거\n",
    "        X_test.append(temp_X)\n",
    "    \n",
    "    words = np.concatenate(X_train).tolist()\n",
    "    counter = Counter(words)\n",
    "    counter = counter.most_common(num_words-4)\n",
    "    vocab = ['<PAD>', '<BOS>', '<UNK>', '<UNUSED>'] + [key for key, _ in counter]\n",
    "    word_to_index = {word:index for index, word in enumerate(vocab)}\n",
    "        \n",
    "    def wordlist_to_indexlist(wordlist):\n",
    "        return [word_to_index[word] if word in word_to_index else word_to_index['<UNK>'] for word in wordlist]\n",
    "        \n",
    "    X_train = list(map(wordlist_to_indexlist, X_train))\n",
    "    X_test = list(map(wordlist_to_indexlist, X_test))\n",
    "        \n",
    "    return X_train, np.array(list(train_data['label'])), X_test, np.array(list(test_data['label'])), word_to_index\n",
    "    \n",
    "X_train, y_train, X_test, y_test, word_to_index = load_data(train_data, test_data)"
   ]
  },
  {
   "cell_type": "code",
   "execution_count": 15,
   "id": "fcbfd588",
   "metadata": {},
   "outputs": [],
   "source": [
    "index_to_word = {index:word for word, index in word_to_index.items()}"
   ]
  },
  {
   "cell_type": "code",
   "execution_count": 16,
   "id": "53a2bb45",
   "metadata": {},
   "outputs": [],
   "source": [
    "# 문장 1개를 활용할 딕셔너리와 함께 주면, 단어 인덱스 리스트 벡터로 변환해 주는 함수입니다. \n",
    "# 단, 모든 문장은 <BOS>로 시작하는 것으로 합니다. \n",
    "def get_encoded_sentence(sentence, word_to_index):\n",
    "    return [word_to_index['<BOS>']]+[word_to_index[word] \n",
    "                                         if word in word_to_index \n",
    "                                         else word_to_index['<UNK>'] \n",
    "                                         for word in sentence.split()]\n",
    "\n",
    "# 여러 개의 문장 리스트를 한꺼번에 단어 인덱스 리스트 벡터로 encode해 주는 함수입니다. \n",
    "def get_encoded_sentences(sentences, word_to_index):\n",
    "    return [get_encoded_sentence(sentence, word_to_index) for sentence in sentences]\n",
    "\n",
    "# 숫자 벡터로 encode된 문장을 원래대로 decode하는 함수입니다. \n",
    "def get_decoded_sentence(encoded_sentence, index_to_word):\n",
    "    return ' '.join(index_to_word[index] if index in index_to_word \n",
    "                                         else '<UNK>' \n",
    "                                         for index in encoded_sentence[1:])  #[1:]를 통해 <BOS>를 제외\n",
    "\n",
    "# 여러 개의 숫자 벡터로 encode된 문장을 한꺼번에 원래대로 decode하는 함수입니다. \n",
    "def get_decoded_sentences(encoded_sentences, index_to_word):\n",
    "    return [get_decoded_sentence(encoded_sentence, index_to_word) for encoded_sentence in encoded_sentences]"
   ]
  },
  {
   "cell_type": "markdown",
   "id": "290f3e7c",
   "metadata": {},
   "source": [
    "# 3. 모델 구성을 위한 데이터 분석 및 가공"
   ]
  },
  {
   "cell_type": "code",
   "execution_count": 17,
   "id": "aa4864cb",
   "metadata": {},
   "outputs": [
    {
     "name": "stdout",
     "output_type": "stream",
     "text": [
      "문장길이 평균 :  15.96940191154864\n",
      "문장길이 최대 :  116\n",
      "문장길이 표준편차 :  12.843571191092\n",
      "pad_sequences maxlen :  41\n",
      "전체 문장의 0.9342988343341575%가 maxlen 설정값 이내에 포함됩니다. \n"
     ]
    }
   ],
   "source": [
    "total_data_text = list(X_train) + list(X_test)\n",
    "\n",
    "# 텍스트데이터 문장길이의 리스트를 생성한 후\n",
    "num_tokens = [len(tokens) for tokens in total_data_text]\n",
    "num_tokens = np.array(num_tokens)\n",
    "\n",
    "# 문장길이의 평균값, 최대값, 표준편차를 계산해 본다. \n",
    "print('문장길이 평균 : ', np.mean(num_tokens))\n",
    "print('문장길이 최대 : ', np.max(num_tokens))\n",
    "print('문장길이 표준편차 : ', np.std(num_tokens))\n",
    "\n",
    "# 최대 길이를 (평균 + 2*표준편차)로 한다면,  \n",
    "max_tokens = np.mean(num_tokens) + 2 * np.std(num_tokens)\n",
    "maxlen = int(max_tokens)\n",
    "print('pad_sequences maxlen : ', maxlen)\n",
    "print(f'전체 문장의 {np.sum(num_tokens < max_tokens) / len(num_tokens)}%가 maxlen 설정값 이내에 포함됩니다. ')"
   ]
  },
  {
   "cell_type": "code",
   "execution_count": 19,
   "id": "986915ab",
   "metadata": {},
   "outputs": [
    {
     "name": "stdout",
     "output_type": "stream",
     "text": [
      "(146182, 41)\n"
     ]
    }
   ],
   "source": [
    "# 위의 maxlen 을 기준으로 패딩. 앞쪽에 패딩을 붙이자.\n",
    "\n",
    "import numpy as np\n",
    "import tensorflow as tf\n",
    "import os\n",
    "\n",
    "X_train = tf.keras.preprocessing.sequence.pad_sequences(X_train,\n",
    "                                                        value=word_to_index[\"<PAD>\"],\n",
    "                                                        padding='pre',\n",
    "                                                        maxlen=maxlen)\n",
    "\n",
    "X_test = tf.keras.preprocessing.sequence.pad_sequences(X_test,\n",
    "                                                       value=word_to_index[\"<PAD>\"],\n",
    "                                                       padding='pre',\n",
    "                                                       maxlen=maxlen)\n",
    "\n",
    "print(X_train.shape)"
   ]
  },
  {
   "cell_type": "markdown",
   "id": "0d733d34",
   "metadata": {},
   "source": [
    "# 4. 모델 구성 및 validation set 구성"
   ]
  },
  {
   "cell_type": "code",
   "execution_count": 21,
   "id": "cd55a6e9",
   "metadata": {},
   "outputs": [
    {
     "name": "stdout",
     "output_type": "stream",
     "text": [
      "(106182, 41)\n",
      "(106182,)\n"
     ]
    }
   ],
   "source": [
    "# 총 146182 건의 데이터 중 40000 건을 검증용으로 사용하자.\n",
    "# validation set 40000건 분리\n",
    "X_val = X_train[:40000]   \n",
    "y_val = y_train[:40000]\n",
    "\n",
    "# validation set을 제외한 나머지 106182건\n",
    "partial_X_train = X_train[40000:]  \n",
    "partial_y_train = y_train[40000:]\n",
    "\n",
    "print(partial_X_train.shape)\n",
    "print(partial_y_train.shape)"
   ]
  },
  {
   "cell_type": "code",
   "execution_count": 22,
   "id": "0ee36d90",
   "metadata": {},
   "outputs": [],
   "source": [
    "# 단어장 크기와 임베딩벡터의 차원을 명시\n",
    "vocab_size = 10000\n",
    "word_vector_dim = 128"
   ]
  },
  {
   "cell_type": "code",
   "execution_count": 39,
   "id": "c0da4537",
   "metadata": {},
   "outputs": [
    {
     "name": "stdout",
     "output_type": "stream",
     "text": [
      "Model: \"sequential_6\"\n",
      "_________________________________________________________________\n",
      "Layer (type)                 Output Shape              Param #   \n",
      "=================================================================\n",
      "embedding_6 (Embedding)      (None, 41, 128)           1280000   \n",
      "_________________________________________________________________\n",
      "lstm_10 (LSTM)               (None, 41, 64)            49408     \n",
      "_________________________________________________________________\n",
      "lstm_11 (LSTM)               (None, 64)                33024     \n",
      "_________________________________________________________________\n",
      "dense_12 (Dense)             (None, 64)                4160      \n",
      "_________________________________________________________________\n",
      "dropout_5 (Dropout)          (None, 64)                0         \n",
      "_________________________________________________________________\n",
      "dense_13 (Dense)             (None, 1)                 65        \n",
      "=================================================================\n",
      "Total params: 1,366,657\n",
      "Trainable params: 1,366,657\n",
      "Non-trainable params: 0\n",
      "_________________________________________________________________\n"
     ]
    }
   ],
   "source": [
    "# 모델 1 : 단방향 LSTM 2층으로 쌓기\n",
    "\n",
    "lstm_model = tf.keras.Sequential([\n",
    "    tf.keras.layers.Embedding(vocab_size, word_vector_dim, input_length=maxlen),\n",
    "    tf.keras.layers.LSTM(64, return_sequences=True),\n",
    "    tf.keras.layers.LSTM(64),\n",
    "    tf.keras.layers.Dense(64, activation='relu'),\n",
    "    tf.keras.layers.Dropout(0.5),\n",
    "    tf.keras.layers.Dense(1, activation='sigmoid')\n",
    "])\n",
    "\n",
    "lstm_model.summary()"
   ]
  },
  {
   "cell_type": "code",
   "execution_count": 40,
   "id": "fbe96a23",
   "metadata": {},
   "outputs": [
    {
     "name": "stdout",
     "output_type": "stream",
     "text": [
      "Model: \"sequential_7\"\n",
      "_________________________________________________________________\n",
      "Layer (type)                 Output Shape              Param #   \n",
      "=================================================================\n",
      "embedding_7 (Embedding)      (None, 41, 128)           1280000   \n",
      "_________________________________________________________________\n",
      "bidirectional_4 (Bidirection (None, 41, 128)           98816     \n",
      "_________________________________________________________________\n",
      "bidirectional_5 (Bidirection (None, 128)               98816     \n",
      "_________________________________________________________________\n",
      "dense_14 (Dense)             (None, 64)                8256      \n",
      "_________________________________________________________________\n",
      "dropout_6 (Dropout)          (None, 64)                0         \n",
      "_________________________________________________________________\n",
      "dense_15 (Dense)             (None, 1)                 65        \n",
      "=================================================================\n",
      "Total params: 1,485,953\n",
      "Trainable params: 1,485,953\n",
      "Non-trainable params: 0\n",
      "_________________________________________________________________\n"
     ]
    }
   ],
   "source": [
    "# 모델 2 : 쌍방향 LSTM 2층으로 쌓기\n",
    "\n",
    "bi_lstm_model = tf.keras.Sequential([\n",
    "    tf.keras.layers.Embedding(vocab_size, word_vector_dim, input_length=maxlen),\n",
    "    tf.keras.layers.Bidirectional(tf.keras.layers.LSTM(64, return_sequences=True)),\n",
    "    tf.keras.layers.Bidirectional(tf.keras.layers.LSTM(64)),\n",
    "    tf.keras.layers.Dense(64, activation='relu'),\n",
    "    tf.keras.layers.Dropout(0.5),\n",
    "    tf.keras.layers.Dense(1, activation='sigmoid')\n",
    "])\n",
    "\n",
    "bi_lstm_model.summary()"
   ]
  },
  {
   "cell_type": "code",
   "execution_count": 41,
   "id": "98aa98c9",
   "metadata": {},
   "outputs": [
    {
     "name": "stdout",
     "output_type": "stream",
     "text": [
      "Model: \"sequential_8\"\n",
      "_________________________________________________________________\n",
      "Layer (type)                 Output Shape              Param #   \n",
      "=================================================================\n",
      "embedding_8 (Embedding)      (None, 41, 128)           1280000   \n",
      "_________________________________________________________________\n",
      "conv1d_2 (Conv1D)            (None, 35, 16)            14352     \n",
      "_________________________________________________________________\n",
      "max_pooling1d_1 (MaxPooling1 (None, 7, 16)             0         \n",
      "_________________________________________________________________\n",
      "conv1d_3 (Conv1D)            (None, 1, 16)             1808      \n",
      "_________________________________________________________________\n",
      "global_max_pooling1d_1 (Glob (None, 16)                0         \n",
      "_________________________________________________________________\n",
      "dense_16 (Dense)             (None, 8)                 136       \n",
      "_________________________________________________________________\n",
      "dense_17 (Dense)             (None, 1)                 9         \n",
      "=================================================================\n",
      "Total params: 1,296,305\n",
      "Trainable params: 1,296,305\n",
      "Non-trainable params: 0\n",
      "_________________________________________________________________\n"
     ]
    }
   ],
   "source": [
    "# 모델 3 : 1d-CNN\n",
    "\n",
    "cnn_model = tf.keras.Sequential([\n",
    "    tf.keras.layers.Embedding(vocab_size, word_vector_dim, input_length=maxlen),\n",
    "    tf.keras.layers.Conv1D(16, 7, activation='relu'),\n",
    "    tf.keras.layers.MaxPooling1D(5),\n",
    "    tf.keras.layers.Conv1D(16, 7, activation='relu'),\n",
    "    tf.keras.layers.GlobalMaxPooling1D(),\n",
    "    tf.keras.layers.Dense(8, activation='relu'),\n",
    "    tf.keras.layers.Dense(1, activation='sigmoid')\n",
    "])\n",
    "\n",
    "cnn_model.summary()"
   ]
  },
  {
   "cell_type": "markdown",
   "id": "97d25d69",
   "metadata": {},
   "source": [
    "# 5. 모델 훈련"
   ]
  },
  {
   "cell_type": "code",
   "execution_count": 32,
   "id": "ebff1aa3",
   "metadata": {},
   "outputs": [
    {
     "name": "stdout",
     "output_type": "stream",
     "text": [
      "Epoch 1/10\n",
      "208/208 [==============================] - 8s 15ms/step - loss: 0.4382 - accuracy: 0.7942 - val_loss: 0.3541 - val_accuracy: 0.8449\n",
      "Epoch 2/10\n",
      "208/208 [==============================] - 2s 11ms/step - loss: 0.3264 - accuracy: 0.8630 - val_loss: 0.3373 - val_accuracy: 0.8528\n",
      "Epoch 3/10\n",
      "208/208 [==============================] - 2s 11ms/step - loss: 0.2890 - accuracy: 0.8800 - val_loss: 0.3340 - val_accuracy: 0.8558\n",
      "Epoch 4/10\n",
      "208/208 [==============================] - 2s 11ms/step - loss: 0.2569 - accuracy: 0.8934 - val_loss: 0.3528 - val_accuracy: 0.8542\n",
      "Epoch 5/10\n",
      "208/208 [==============================] - 2s 11ms/step - loss: 0.2260 - accuracy: 0.9083 - val_loss: 0.3655 - val_accuracy: 0.8530\n",
      "Epoch 6/10\n",
      "208/208 [==============================] - 2s 11ms/step - loss: 0.1993 - accuracy: 0.9200 - val_loss: 0.4047 - val_accuracy: 0.8476\n",
      "Epoch 7/10\n",
      "208/208 [==============================] - 2s 11ms/step - loss: 0.1776 - accuracy: 0.9281 - val_loss: 0.4386 - val_accuracy: 0.8485\n",
      "Epoch 8/10\n",
      "208/208 [==============================] - 2s 11ms/step - loss: 0.1576 - accuracy: 0.9369 - val_loss: 0.5720 - val_accuracy: 0.8494\n",
      "Epoch 9/10\n",
      "208/208 [==============================] - 2s 11ms/step - loss: 0.1386 - accuracy: 0.9447 - val_loss: 0.5423 - val_accuracy: 0.8446\n",
      "Epoch 10/10\n",
      "208/208 [==============================] - 2s 11ms/step - loss: 0.1262 - accuracy: 0.9497 - val_loss: 0.6211 - val_accuracy: 0.8440\n"
     ]
    }
   ],
   "source": [
    "lstm_model.compile(optimizer='adam',\n",
    "                   loss='binary_crossentropy',\n",
    "                   metrics=['accuracy'])\n",
    "              \n",
    "epochs=10  # 몇 epoch를 훈련하면 좋을지 결과를 보면서 바꾸어 봅시다. \n",
    "\n",
    "lstm_history = lstm_model.fit(partial_X_train,\n",
    "                    partial_y_train,\n",
    "                    epochs=epochs,\n",
    "                    batch_size=512,\n",
    "                    validation_data=(X_val, y_val),\n",
    "                    verbose=1)"
   ]
  },
  {
   "cell_type": "code",
   "execution_count": 33,
   "id": "55ef3404",
   "metadata": {},
   "outputs": [
    {
     "name": "stdout",
     "output_type": "stream",
     "text": [
      "Epoch 1/10\n",
      "208/208 [==============================] - 11s 29ms/step - loss: 0.4274 - accuracy: 0.7997 - val_loss: 0.3570 - val_accuracy: 0.8457\n",
      "Epoch 2/10\n",
      "208/208 [==============================] - 5s 23ms/step - loss: 0.3254 - accuracy: 0.8639 - val_loss: 0.3351 - val_accuracy: 0.8543\n",
      "Epoch 3/10\n",
      "208/208 [==============================] - 5s 23ms/step - loss: 0.2867 - accuracy: 0.8808 - val_loss: 0.3563 - val_accuracy: 0.8507\n",
      "Epoch 4/10\n",
      "208/208 [==============================] - 5s 23ms/step - loss: 0.2531 - accuracy: 0.8950 - val_loss: 0.3552 - val_accuracy: 0.8536\n",
      "Epoch 5/10\n",
      "208/208 [==============================] - 5s 23ms/step - loss: 0.2239 - accuracy: 0.9081 - val_loss: 0.3696 - val_accuracy: 0.8524\n",
      "Epoch 6/10\n",
      "208/208 [==============================] - 5s 23ms/step - loss: 0.1974 - accuracy: 0.9189 - val_loss: 0.4248 - val_accuracy: 0.8514\n",
      "Epoch 7/10\n",
      "208/208 [==============================] - 5s 23ms/step - loss: 0.1764 - accuracy: 0.9274 - val_loss: 0.4584 - val_accuracy: 0.8445\n",
      "Epoch 8/10\n",
      "208/208 [==============================] - 5s 23ms/step - loss: 0.1569 - accuracy: 0.9362 - val_loss: 0.5156 - val_accuracy: 0.8467\n",
      "Epoch 9/10\n",
      "208/208 [==============================] - 5s 23ms/step - loss: 0.1415 - accuracy: 0.9435 - val_loss: 0.5143 - val_accuracy: 0.8434\n",
      "Epoch 10/10\n",
      "208/208 [==============================] - 5s 23ms/step - loss: 0.1265 - accuracy: 0.9498 - val_loss: 0.5916 - val_accuracy: 0.8410\n"
     ]
    }
   ],
   "source": [
    "bi_lstm_model.compile(optimizer='adam',\n",
    "                   loss='binary_crossentropy',\n",
    "                   metrics=['accuracy'])\n",
    "              \n",
    "epochs=10  # 몇 epoch를 훈련하면 좋을지 결과를 보면서 바꾸어 봅시다. \n",
    "\n",
    "bi_lstm_history = bi_lstm_model.fit(partial_X_train,\n",
    "                    partial_y_train,\n",
    "                    epochs=epochs,\n",
    "                    batch_size=512,\n",
    "                    validation_data=(X_val, y_val),\n",
    "                    verbose=1)"
   ]
  },
  {
   "cell_type": "code",
   "execution_count": 34,
   "id": "3e272a4d",
   "metadata": {},
   "outputs": [
    {
     "name": "stdout",
     "output_type": "stream",
     "text": [
      "Epoch 1/10\n",
      "208/208 [==============================] - 4s 8ms/step - loss: 0.4555 - accuracy: 0.7839 - val_loss: 0.3468 - val_accuracy: 0.8489\n",
      "Epoch 2/10\n",
      "208/208 [==============================] - 1s 6ms/step - loss: 0.3038 - accuracy: 0.8728 - val_loss: 0.3300 - val_accuracy: 0.8565\n",
      "Epoch 3/10\n",
      "208/208 [==============================] - 1s 6ms/step - loss: 0.2451 - accuracy: 0.9024 - val_loss: 0.3373 - val_accuracy: 0.8577\n",
      "Epoch 4/10\n",
      "208/208 [==============================] - 1s 6ms/step - loss: 0.1804 - accuracy: 0.9331 - val_loss: 0.3788 - val_accuracy: 0.8503\n",
      "Epoch 5/10\n",
      "208/208 [==============================] - 1s 6ms/step - loss: 0.1192 - accuracy: 0.9597 - val_loss: 0.4298 - val_accuracy: 0.8448\n",
      "Epoch 6/10\n",
      "208/208 [==============================] - 1s 6ms/step - loss: 0.0769 - accuracy: 0.9758 - val_loss: 0.5063 - val_accuracy: 0.8416\n",
      "Epoch 7/10\n",
      "208/208 [==============================] - 1s 6ms/step - loss: 0.0524 - accuracy: 0.9843 - val_loss: 0.5635 - val_accuracy: 0.8422\n",
      "Epoch 8/10\n",
      "208/208 [==============================] - 1s 6ms/step - loss: 0.0373 - accuracy: 0.9888 - val_loss: 0.6330 - val_accuracy: 0.8367\n",
      "Epoch 9/10\n",
      "208/208 [==============================] - 1s 6ms/step - loss: 0.0274 - accuracy: 0.9917 - val_loss: 0.7071 - val_accuracy: 0.8360\n",
      "Epoch 10/10\n",
      "208/208 [==============================] - 1s 6ms/step - loss: 0.0211 - accuracy: 0.9937 - val_loss: 0.7799 - val_accuracy: 0.8342\n"
     ]
    }
   ],
   "source": [
    "cnn_model.compile(optimizer='adam',\n",
    "                   loss='binary_crossentropy',\n",
    "                   metrics=['accuracy'])\n",
    "              \n",
    "epochs=10  # 몇 epoch를 훈련하면 좋을지 결과를 보면서 바꾸어 봅시다. \n",
    "\n",
    "cnn_history = cnn_model.fit(partial_X_train,\n",
    "                    partial_y_train,\n",
    "                    epochs=epochs,\n",
    "                    batch_size=512,\n",
    "                    validation_data=(X_val, y_val),\n",
    "                    verbose=1)"
   ]
  },
  {
   "cell_type": "code",
   "execution_count": 43,
   "id": "da11918d",
   "metadata": {},
   "outputs": [
    {
     "name": "stdout",
     "output_type": "stream",
     "text": [
      "Epoch 1/3\n",
      "208/208 [==============================] - 6s 15ms/step - loss: 0.4340 - accuracy: 0.7989 - val_loss: 0.3510 - val_accuracy: 0.8456\n",
      "Epoch 2/3\n",
      "208/208 [==============================] - 2s 12ms/step - loss: 0.3257 - accuracy: 0.8627 - val_loss: 0.3373 - val_accuracy: 0.8533\n",
      "Epoch 3/3\n",
      "208/208 [==============================] - 2s 12ms/step - loss: 0.2891 - accuracy: 0.8790 - val_loss: 0.3401 - val_accuracy: 0.8546\n",
      "Epoch 1/2\n",
      "208/208 [==============================] - 11s 29ms/step - loss: 0.4269 - accuracy: 0.8002 - val_loss: 0.3490 - val_accuracy: 0.8483\n",
      "Epoch 2/2\n",
      "208/208 [==============================] - 5s 23ms/step - loss: 0.3246 - accuracy: 0.8630 - val_loss: 0.3415 - val_accuracy: 0.8532\n",
      "Epoch 1/2\n",
      "208/208 [==============================] - 2s 7ms/step - loss: 0.4640 - accuracy: 0.7821 - val_loss: 0.3487 - val_accuracy: 0.8473\n",
      "Epoch 2/2\n",
      "208/208 [==============================] - 1s 6ms/step - loss: 0.3112 - accuracy: 0.8684 - val_loss: 0.3341 - val_accuracy: 0.8544\n",
      "1537/1537 - 4s - loss: 0.3462 - accuracy: 0.8497\n",
      "1537/1537 - 7s - loss: 0.3494 - accuracy: 0.8478\n",
      "1537/1537 - 3s - loss: 0.3425 - accuracy: 0.8517\n",
      "[0.3462374210357666, 0.8497263789176941]\n",
      "[0.34939631819725037, 0.8477734327316284]\n",
      "[0.34254738688468933, 0.8516793251037598]\n"
     ]
    }
   ],
   "source": [
    "# 세 모델의 최적의 에포크는 각각 3, 2, 2 임을 안다.\n",
    "# 이 값들로 다시 fitting\n",
    "\n",
    "lstm_model.compile(optimizer='adam',\n",
    "                   loss='binary_crossentropy',\n",
    "                   metrics=['accuracy'])\n",
    "\n",
    "bi_lstm_model.compile(optimizer='adam',\n",
    "                   loss='binary_crossentropy',\n",
    "                   metrics=['accuracy'])\n",
    "\n",
    "cnn_model.compile(optimizer='adam',\n",
    "                   loss='binary_crossentropy',\n",
    "                   metrics=['accuracy'])\n",
    "\n",
    "\n",
    "\n",
    "\n",
    "lstm_model.fit(partial_X_train,\n",
    "                    partial_y_train,\n",
    "                    epochs=3,\n",
    "                    batch_size=512,\n",
    "                    validation_data=(X_val, y_val),\n",
    "                    verbose=1)\n",
    "\n",
    "bi_lstm_model.fit(partial_X_train,\n",
    "                    partial_y_train,\n",
    "                    epochs=2,\n",
    "                    batch_size=512,\n",
    "                    validation_data=(X_val, y_val),\n",
    "                    verbose=1)\n",
    "\n",
    "cnn_model.fit(partial_X_train,\n",
    "                    partial_y_train,\n",
    "                    epochs=2,\n",
    "                    batch_size=512,\n",
    "                    validation_data=(X_val, y_val),\n",
    "                    verbose=1)\n",
    "\n",
    "lstm_results = lstm_model.evaluate(X_test,  y_test, verbose=2)\n",
    "bi_lstm_results = bi_lstm_model.evaluate(X_test,  y_test, verbose=2)\n",
    "cnn_results = cnn_model.evaluate(X_test,  y_test, verbose=2)\n",
    "print(lstm_results)\n",
    "print(bi_lstm_results)\n",
    "print(cnn_results)"
   ]
  },
  {
   "cell_type": "markdown",
   "id": "0936fe4e",
   "metadata": {},
   "source": [
    "# 6. Loss, Accuracy 그래프 시각화"
   ]
  },
  {
   "cell_type": "code",
   "execution_count": 44,
   "id": "97aa7bec",
   "metadata": {},
   "outputs": [
    {
     "name": "stdout",
     "output_type": "stream",
     "text": [
      "dict_keys(['loss', 'accuracy', 'val_loss', 'val_accuracy'])\n"
     ]
    }
   ],
   "source": [
    "# 가장 높은 accuracy 를 준 1D-CNN 모델의 그래프를 시각화해보자.\n",
    "history_dict = cnn_history.history\n",
    "print(history_dict.keys()) # epoch에 따른 그래프를 그려볼 수 있는 항목들"
   ]
  },
  {
   "cell_type": "code",
   "execution_count": 45,
   "id": "7f7e46ed",
   "metadata": {},
   "outputs": [
    {
     "data": {
      "image/png": "[encoded data removed]",
      "text/plain": [
       "<Figure size 432x288 with 1 Axes>"
      ]
     },
     "metadata": {
      "needs_background": "light"
     },
     "output_type": "display_data"
    }
   ],
   "source": [
    "import matplotlib.pyplot as plt\n",
    "\n",
    "acc = history_dict['accuracy']\n",
    "val_acc = history_dict['val_accuracy']\n",
    "loss = history_dict['loss']\n",
    "val_loss = history_dict['val_loss']\n",
    "\n",
    "epochs = range(1, len(acc) + 1)\n",
    "\n",
    "plt.plot(epochs, loss, 'bo', label='Training loss')  # \"bo\"는 \"파란색 점\"입니다\n",
    "plt.plot(epochs, val_loss, 'b', label='Validation loss')  # b는 \"파란 실선\"입니다\n",
    "plt.title('Training and validation loss')\n",
    "plt.xlabel('Epochs')\n",
    "plt.ylabel('Loss')\n",
    "plt.legend()\n",
    "\n",
    "plt.show()"
   ]
  },
  {
   "cell_type": "code",
   "execution_count": 46,
   "id": "47faa5f6",
   "metadata": {},
   "outputs": [
    {
     "data": {
      "image/png": "[encoded data removed]",
      "text/plain": [
       "<Figure size 432x288 with 1 Axes>"
      ]
     },
     "metadata": {
      "needs_background": "light"
     },
     "output_type": "display_data"
    }
   ],
   "source": [
    "plt.clf()   # 그림을 초기화합니다\n",
    "\n",
    "plt.plot(epochs, acc, 'bo', label='Training acc')\n",
    "plt.plot(epochs, val_acc, 'b', label='Validation acc')\n",
    "plt.title('Training and validation accuracy')\n",
    "plt.xlabel('Epochs')\n",
    "plt.ylabel('Accuracy')\n",
    "plt.legend()\n",
    "\n",
    "plt.show()"
   ]
  },
  {
   "cell_type": "markdown",
   "id": "b3c05525",
   "metadata": {},
   "source": [
    "# 7. 학습된 embedding layer 분석"
   ]
  },
  {
   "cell_type": "code",
   "execution_count": 48,
   "id": "861282fb",
   "metadata": {},
   "outputs": [
    {
     "name": "stdout",
     "output_type": "stream",
     "text": [
      "(10000, 128)\n"
     ]
    }
   ],
   "source": [
    "# 첫 레이어 embedding 에, 우리의 모델이 잘 훈련되었다면, 그럴듯한 word-embedding 이 이루어졌을 것이다.\n",
    "# 이를 확인해보자.\n",
    "\n",
    "# 먼저 임베딩된 벡터들을 저장할 디렉토리를 만들고, \n",
    "# 워드벡터를 다루는데 유용한 gensim 패키지버전 확인... 먼저 터미널에서 다음을 입력:\n",
    "# $ mkdir -p ~/aiffel/sentiment_classification/data\n",
    "# $ pip list | grep gensim\n",
    "\n",
    "embedding_layer = cnn_model.layers[0]\n",
    "weights = embedding_layer.get_weights()[0]\n",
    "print(weights.shape)    # shape: (vocab_size, embedding_dim)"
   ]
  },
  {
   "cell_type": "code",
   "execution_count": 50,
   "id": "453c525f",
   "metadata": {},
   "outputs": [],
   "source": [
    "# 학습한 Embedding 파라미터를 파일에 써서 저장합니다. \n",
    "word2vec_file_path = os.getenv('HOME')+'/aiffel/0612_sentiment_classification/data/word2vec.txt'\n",
    "f = open(word2vec_file_path, 'w')\n",
    "f.write('{} {}\\n'.format(vocab_size-4, word_vector_dim))  # 몇개의 벡터를 얼마 사이즈로 기재할지 타이틀을 씁니다.\n",
    "\n",
    "# 단어 개수(에서 특수문자 4개는 제외하고)만큼의 워드 벡터를 파일에 기록합니다. \n",
    "vectors = cnn_model.get_weights()[0]\n",
    "for i in range(4,vocab_size):\n",
    "    f.write('{} {}\\n'.format(index_to_word[i], ' '.join(map(str, list(vectors[i, :])))))\n",
    "f.close()"
   ]
  },
  {
   "cell_type": "code",
   "execution_count": 53,
   "id": "d8143c6d",
   "metadata": {},
   "outputs": [
    {
     "data": {
      "text/plain": [
       "array([-0.08401033, -0.0889575 , -0.00855551, -0.05298588,  0.04927721,\n",
       "        0.07869884, -0.06560596,  0.01237868,  0.02954806,  0.02870614,\n",
       "       -0.07214991, -0.00983764, -0.04209622,  0.01026887,  0.05460407,\n",
       "        0.06487674,  0.04089818,  0.01329043, -0.05047166,  0.05364168,\n",
       "        0.06288224, -0.01204511, -0.04944069,  0.0185559 ,  0.06141255,\n",
       "       -0.09189028,  0.07322226, -0.03996252,  0.07270923,  0.02646896,\n",
       "        0.03523599,  0.03778783, -0.0637747 ,  0.07805342, -0.06922435,\n",
       "       -0.00540882, -0.03396018, -0.01766626, -0.01310455,  0.0397407 ,\n",
       "       -0.07759216,  0.01162062, -0.04845211,  0.04555965, -0.07468257,\n",
       "       -0.03525211,  0.01424592,  0.00502706,  0.05274574, -0.02539675,\n",
       "        0.00561628, -0.04417329, -0.05209601, -0.02081716, -0.01504637,\n",
       "        0.01039113,  0.05942878,  0.00093929,  0.00046026,  0.03606026,\n",
       "       -0.07417139, -0.06324904,  0.0555009 , -0.05847939, -0.03907322,\n",
       "       -0.00635329, -0.04003576,  0.08075479, -0.06431447, -0.08278201,\n",
       "       -0.04531796,  0.07623059,  0.01352899, -0.01142127, -0.02437604,\n",
       "       -0.02421463,  0.02292977, -0.00878396, -0.06187302,  0.0343819 ,\n",
       "       -0.00280697, -0.06761312,  0.07110736,  0.06298414,  0.00670154,\n",
       "        0.04742975, -0.04258485, -0.04571801, -0.02373643, -0.02897847,\n",
       "        0.10463356, -0.07469174, -0.03662546, -0.09572327,  0.00849287,\n",
       "        0.02330724, -0.00889469,  0.07871031, -0.00802915,  0.03638592,\n",
       "       -0.042806  ,  0.05071609,  0.01506984,  0.06996915,  0.06023672,\n",
       "       -0.06849131, -0.03015645,  0.03609633,  0.07865737, -0.09910496,\n",
       "        0.0528542 ,  0.05068132,  0.00452157, -0.03600818,  0.01621947,\n",
       "       -0.05088541,  0.08781359, -0.02326187, -0.01205743,  0.07189324,\n",
       "       -0.07175898,  0.08438396,  0.00469343,  0.08212207,  0.01164667,\n",
       "       -0.04933076,  0.07282977,  0.07680643], dtype=float32)"
      ]
     },
     "execution_count": 53,
     "metadata": {},
     "output_type": "execute_result"
    }
   ],
   "source": [
    "from gensim.models.keyedvectors import Word2VecKeyedVectors\n",
    "\n",
    "word_vectors = Word2VecKeyedVectors.load_word2vec_format(word2vec_file_path, binary=False)\n",
    "vector = word_vectors['사랑']\n",
    "vector"
   ]
  },
  {
   "cell_type": "code",
   "execution_count": 54,
   "id": "3ac97faf",
   "metadata": {},
   "outputs": [
    {
     "data": {
      "text/plain": [
       "[('먹먹', 0.7569153904914856),\n",
       " ('진진', 0.7524681687355042),\n",
       " ('담백', 0.7428818345069885),\n",
       " ('정점', 0.7350031733512878),\n",
       " ('해냈', 0.7236530184745789),\n",
       " ('진한', 0.7234598398208618),\n",
       " ('good', 0.7224597930908203),\n",
       " ('레전드', 0.7203169465065002),\n",
       " ('묵직', 0.7172957062721252),\n",
       " ('입감', 0.7167129516601562)]"
      ]
     },
     "execution_count": 54,
     "metadata": {},
     "output_type": "execute_result"
    }
   ],
   "source": [
    "# 워드 벡터가 의미 벡터 공간상에 유의미하게 학습되었는지 확인하는 방법 중에, \n",
    "# 단어를 하나 주고 그와 가장 유사한 단어와 그 유사도를 확인하는 방법이 있습니다. \n",
    "# gensim을 사용하면 아래와 같이 해볼 수 있습니다.\n",
    "\n",
    "word_vectors.similar_by_word(\"사랑\")"
   ]
  },
  {
   "cell_type": "markdown",
   "id": "4d8fe7ba",
   "metadata": {},
   "source": [
    "# 8. 한국어 Word2Vec 임베딩을 활용하여 성능 개선"
   ]
  },
  {
   "cell_type": "code",
   "execution_count": 62,
   "id": "c08d2738",
   "metadata": {},
   "outputs": [
    {
     "data": {
      "text/plain": [
       "array([ 3.2565942 , -0.85421413, -3.6964011 ,  1.0956469 ,  0.599815  ,\n",
       "       -1.9681435 ,  0.32379073, -1.0716053 , -1.1776937 ,  2.0442047 ,\n",
       "        2.2501915 , -2.7868037 , -2.702359  , -0.9775915 , -0.12478333,\n",
       "        0.28235647,  0.77683175, -1.5393747 ,  2.0879042 , -5.444462  ,\n",
       "       -4.931412  ,  0.8532094 ,  0.11118065, -2.743522  ,  0.7902363 ,\n",
       "        0.10469969, -0.56074625,  1.6684421 ,  1.0278419 , -3.8816829 ,\n",
       "       -3.606887  , -3.120771  , -1.2527398 , -0.77196646, -1.0102901 ,\n",
       "        3.331668  ,  0.30032924,  1.2074511 , -1.2813627 ,  2.6281219 ,\n",
       "       -1.4624823 , -1.1354805 ,  0.7605239 ,  2.83577   , -1.199358  ,\n",
       "        3.1347232 ,  4.062026  , -0.23413125,  3.205856  , -0.9567054 ,\n",
       "        0.77167803, -1.4300145 ,  2.9014013 , -3.940087  , -3.234169  ,\n",
       "       -5.5460634 ,  0.6185009 , -0.75793767,  2.1043491 ,  2.350599  ,\n",
       "        2.9313247 , -2.235593  ,  3.2084036 , -5.594638  ,  1.6516634 ,\n",
       "       -0.32628602, -1.8824683 , -1.5573231 , -1.8452163 , -1.4044309 ,\n",
       "        4.872565  , -2.1063929 , -0.32347348,  1.9946551 , -4.0967984 ,\n",
       "       -1.4509655 , -0.09111219, -4.458617  ,  0.06598099, -2.211754  ,\n",
       "        3.0731246 , -0.06910119,  2.2555242 ,  2.0823317 , -0.58695716,\n",
       "       -3.1035714 ,  2.4014452 ,  3.4731216 ,  1.424459  , -4.313935  ,\n",
       "       -3.5665336 , -6.5203366 , -2.1090846 , -3.2797608 ,  0.4331985 ,\n",
       "        1.1721823 ,  1.8870457 , -0.08832774,  5.423067  , -3.8484313 ],\n",
       "      dtype=float32)"
      ]
     },
     "execution_count": 62,
     "metadata": {},
     "output_type": "execute_result"
    }
   ],
   "source": [
    "# Word2Vec 모델 파일 경로\n",
    "word2vec_file_path = os.getenv('HOME')+'/data/word2vec_ko.model'\n",
    "# Word2Vec 모델 로드\n",
    "word_vectors = Word2VecKeyedVectors.load(word2vec_file_path)\n",
    "\n",
    "vector = word_vectors.wv['사랑']\n",
    "vector"
   ]
  },
  {
   "cell_type": "code",
   "execution_count": 64,
   "id": "4a3563dc",
   "metadata": {},
   "outputs": [
    {
     "data": {
      "text/plain": [
       "[('이별', 0.7626414895057678),\n",
       " ('행복', 0.7550068497657776),\n",
       " ('슬픔', 0.7381505966186523),\n",
       " ('유혹', 0.7238055467605591),\n",
       " ('그리움', 0.7167419195175171),\n",
       " ('추억', 0.7143999338150024),\n",
       " ('꿈', 0.7089294195175171),\n",
       " ('애정', 0.7066588997840881),\n",
       " ('포옹', 0.7034594416618347),\n",
       " ('마음', 0.6972615718841553)]"
      ]
     },
     "execution_count": 64,
     "metadata": {},
     "output_type": "execute_result"
    }
   ],
   "source": [
    "word_vectors.wv.similar_by_word(\"사랑\") # 위의 영화 리뷰에서나 자주 등장할만한 어휘와는 달리 더 연관성 있어보인다."
   ]
  },
  {
   "cell_type": "code",
   "execution_count": 65,
   "id": "933ab1f9",
   "metadata": {},
   "outputs": [
    {
     "data": {
      "text/plain": [
       "100"
      ]
     },
     "execution_count": 65,
     "metadata": {},
     "output_type": "execute_result"
    }
   ],
   "source": [
    "len(vector) # 영어 모델의 300 차원에 비하면 작다."
   ]
  },
  {
   "cell_type": "code",
   "execution_count": 69,
   "id": "77551df2",
   "metadata": {},
   "outputs": [],
   "source": [
    "# 이제 우리의 모델의 embedding layer 를 Word2Vec 의 것으로 교체하여 다시 학습시켜보자.\n",
    "vocab_size = 10000    # 어휘 사전의 크기입니다(10,000개의 단어)\n",
    "word_vector_dim = 100  # 워드 벡터의 차원수\n",
    "embedding_matrix = np.random.rand(vocab_size, word_vector_dim)\n",
    "\n",
    "# embedding_matrix에 Word2Vec 워드 벡터를 단어 하나씩마다 차례차례 카피한다.\n",
    "for i in range(4,vocab_size):\n",
    "    if index_to_word[i] in word_vectors.wv:\n",
    "        embedding_matrix[i] = word_vectors.wv[index_to_word[i]]"
   ]
  },
  {
   "cell_type": "code",
   "execution_count": 71,
   "id": "fb1dd51f",
   "metadata": {},
   "outputs": [
    {
     "name": "stdout",
     "output_type": "stream",
     "text": [
      "Model: \"sequential_10\"\n",
      "_________________________________________________________________\n",
      "Layer (type)                 Output Shape              Param #   \n",
      "=================================================================\n",
      "embedding_9 (Embedding)      (None, 41, 100)           1000000   \n",
      "_________________________________________________________________\n",
      "conv1d_4 (Conv1D)            (None, 35, 16)            11216     \n",
      "_________________________________________________________________\n",
      "max_pooling1d_2 (MaxPooling1 (None, 7, 16)             0         \n",
      "_________________________________________________________________\n",
      "conv1d_5 (Conv1D)            (None, 1, 16)             1808      \n",
      "_________________________________________________________________\n",
      "global_max_pooling1d_2 (Glob (None, 16)                0         \n",
      "_________________________________________________________________\n",
      "dense_18 (Dense)             (None, 8)                 136       \n",
      "_________________________________________________________________\n",
      "dense_19 (Dense)             (None, 1)                 9         \n",
      "=================================================================\n",
      "Total params: 1,013,169\n",
      "Trainable params: 1,013,169\n",
      "Non-trainable params: 0\n",
      "_________________________________________________________________\n"
     ]
    }
   ],
   "source": [
    "# 이제 모델을 구성하고 fine tuning.\n",
    "\n",
    "from tensorflow.keras.initializers import Constant\n",
    "\n",
    "\n",
    "model = tf.keras.Sequential()\n",
    "model.add(tf.keras.layers.Embedding(vocab_size, \n",
    "                                 word_vector_dim, \n",
    "                                 embeddings_initializer=Constant(embedding_matrix),  # 카피한 임베딩을 여기서 활용\n",
    "                                 input_length=maxlen, \n",
    "                                 trainable=True))   # trainable을 True로 주면 Fine-tuning\n",
    "model.add(tf.keras.layers.Conv1D(16, 7, activation='relu'))\n",
    "model.add(tf.keras.layers.MaxPooling1D(5))\n",
    "model.add(tf.keras.layers.Conv1D(16, 7, activation='relu'))\n",
    "model.add(tf.keras.layers.GlobalMaxPooling1D())\n",
    "model.add(tf.keras.layers.Dense(8, activation='relu'))\n",
    "model.add(tf.keras.layers.Dense(1, activation='sigmoid')) \n",
    "\n",
    "model.summary()"
   ]
  },
  {
   "cell_type": "code",
   "execution_count": 73,
   "id": "d93df171",
   "metadata": {},
   "outputs": [
    {
     "name": "stdout",
     "output_type": "stream",
     "text": [
      "Epoch 1/20\n",
      "208/208 [==============================] - 2s 7ms/step - loss: 0.2344 - accuracy: 0.9082 - val_loss: 0.3904 - val_accuracy: 0.8428\n",
      "Epoch 2/20\n",
      "208/208 [==============================] - 1s 6ms/step - loss: 0.2218 - accuracy: 0.9133 - val_loss: 0.4003 - val_accuracy: 0.8410\n",
      "Epoch 3/20\n",
      "208/208 [==============================] - 1s 6ms/step - loss: 0.2110 - accuracy: 0.9187 - val_loss: 0.4101 - val_accuracy: 0.8407\n",
      "Epoch 4/20\n",
      "208/208 [==============================] - 1s 6ms/step - loss: 0.2024 - accuracy: 0.9230 - val_loss: 0.4254 - val_accuracy: 0.8396\n",
      "Epoch 5/20\n",
      "208/208 [==============================] - 1s 6ms/step - loss: 0.1924 - accuracy: 0.9276 - val_loss: 0.4361 - val_accuracy: 0.8377\n",
      "Epoch 6/20\n",
      "208/208 [==============================] - 1s 6ms/step - loss: 0.1832 - accuracy: 0.9326 - val_loss: 0.4614 - val_accuracy: 0.8332\n",
      "Epoch 7/20\n",
      "208/208 [==============================] - 1s 6ms/step - loss: 0.1739 - accuracy: 0.9367 - val_loss: 0.4577 - val_accuracy: 0.8356\n",
      "Epoch 8/20\n",
      "208/208 [==============================] - 1s 6ms/step - loss: 0.1622 - accuracy: 0.9423 - val_loss: 0.4637 - val_accuracy: 0.8360\n",
      "Epoch 9/20\n",
      "208/208 [==============================] - 1s 6ms/step - loss: 0.1552 - accuracy: 0.9453 - val_loss: 0.4854 - val_accuracy: 0.8348\n",
      "Epoch 10/20\n",
      "208/208 [==============================] - 1s 6ms/step - loss: 0.1445 - accuracy: 0.9500 - val_loss: 0.5056 - val_accuracy: 0.8349\n",
      "Epoch 11/20\n",
      "208/208 [==============================] - 1s 6ms/step - loss: 0.1361 - accuracy: 0.9534 - val_loss: 0.5338 - val_accuracy: 0.8319\n",
      "Epoch 12/20\n",
      "208/208 [==============================] - 1s 6ms/step - loss: 0.1279 - accuracy: 0.9565 - val_loss: 0.5621 - val_accuracy: 0.8319\n",
      "Epoch 13/20\n",
      "208/208 [==============================] - 1s 6ms/step - loss: 0.1201 - accuracy: 0.9602 - val_loss: 0.5957 - val_accuracy: 0.8286\n",
      "Epoch 14/20\n",
      "208/208 [==============================] - 1s 6ms/step - loss: 0.1115 - accuracy: 0.9631 - val_loss: 0.6201 - val_accuracy: 0.8303\n",
      "Epoch 15/20\n",
      "208/208 [==============================] - 1s 6ms/step - loss: 0.1089 - accuracy: 0.9640 - val_loss: 0.6314 - val_accuracy: 0.8315\n",
      "Epoch 16/20\n",
      "208/208 [==============================] - 1s 6ms/step - loss: 0.1002 - accuracy: 0.9679 - val_loss: 0.6431 - val_accuracy: 0.8289\n",
      "Epoch 17/20\n",
      "208/208 [==============================] - 1s 6ms/step - loss: 0.0947 - accuracy: 0.9695 - val_loss: 0.6904 - val_accuracy: 0.8267\n",
      "Epoch 18/20\n",
      "208/208 [==============================] - 1s 6ms/step - loss: 0.0918 - accuracy: 0.9698 - val_loss: 0.7066 - val_accuracy: 0.8285\n",
      "Epoch 19/20\n",
      "208/208 [==============================] - 1s 6ms/step - loss: 0.0851 - accuracy: 0.9727 - val_loss: 0.7563 - val_accuracy: 0.8300\n",
      "Epoch 20/20\n",
      "208/208 [==============================] - 1s 6ms/step - loss: 0.0827 - accuracy: 0.9741 - val_loss: 0.7388 - val_accuracy: 0.8289\n"
     ]
    }
   ],
   "source": [
    "from tensorflow.keras.callbacks import EarlyStopping\n",
    "\n",
    "early_stopping = EarlyStopping(monitor='val_loss', patience=3, restore_best_weights=True)\n",
    "\n",
    "model.compile(optimizer='adam',\n",
    "              loss='binary_crossentropy',\n",
    "              metrics=['accuracy'])\n",
    "              \n",
    "epochs=20\n",
    "\n",
    "history = model.fit(partial_X_train,\n",
    "                    partial_y_train,\n",
    "                    epochs=epochs,\n",
    "                    batch_size=512,\n",
    "                    validation_data=(X_val, y_val),\n",
    "                    verbose=1)"
   ]
  },
  {
   "cell_type": "code",
   "execution_count": 75,
   "id": "c544163f",
   "metadata": {},
   "outputs": [
    {
     "name": "stdout",
     "output_type": "stream",
     "text": [
      "1537/1537 - 3s - loss: 0.7654 - accuracy: 0.8246\n",
      "[0.765363872051239, 0.8246434926986694]\n"
     ]
    }
   ],
   "source": [
    "results = model.evaluate(X_test,  y_test, verbose=2)\n",
    "\n",
    "print(results)"
   ]
  },
  {
   "cell_type": "markdown",
   "id": "adcf2100",
   "metadata": {},
   "source": [
    "오히려 성능이 떨어졌다... 데이터를 분석해보신 분의 말씀에 따르면 word 의 30% 가량이 UNK 으로 나온다고 한다. 인터넷 은어가 많이 쓰여서 오히려 처음부터 학습시킨 것보다 성능이 떨어지는 것으로 보인다."
   ]
  }
 ],
 "metadata": {
  "kernelspec": {
   "display_name": "Python 3 (ipykernel)",
   "language": "python",
   "name": "python3"
  },
  "language_info": {
   "codemirror_mode": {
    "name": "ipython",
    "version": 3
   },
   "file_extension": ".py",
   "mimetype": "text/x-python",
   "name": "python",
   "nbconvert_exporter": "python",
   "pygments_lexer": "ipython3",
   "version": "3.9.7"
  }
 },
 "nbformat": 4,
 "nbformat_minor": 5
}
